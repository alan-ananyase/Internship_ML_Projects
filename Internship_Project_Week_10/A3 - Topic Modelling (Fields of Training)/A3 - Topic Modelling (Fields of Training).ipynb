{
 "cells": [
  {
   "cell_type": "markdown",
   "metadata": {},
   "source": [
    "#### Topic Modelling\n",
    "\n",
    "Collect randomly as many as news content from different fields for training. (thru any form, web scrape, pdf, newspaper etc.)\n",
    "\n",
    "#### Use case\n",
    "\n",
    "Collect randomly another set of content for test.\n",
    "\n",
    "Build topic modelling to understand the topics in the test data."
   ]
  },
  {
   "cell_type": "code",
   "execution_count": 1,
   "metadata": {},
   "outputs": [],
   "source": [
    "# !pip install PyPDF2\n",
    "import PyPDF2\n",
    "\n",
    "import warnings\n",
    "warnings.filterwarnings('ignore')"
   ]
  },
  {
   "cell_type": "code",
   "execution_count": 2,
   "metadata": {},
   "outputs": [],
   "source": [
    "def readpdf(file_name):\n",
    "    pdf = open(file_name, 'rb')\n",
    "    read_pdf = PyPDF2.PdfFileReader(pdf)\n",
    "    page_count = read_pdf.getNumPages()\n",
    "    text=''\n",
    "    for page in range(1, page_count):\n",
    "        msg = read_pdf.getPage(page).extractText()\n",
    "        text = text + str(msg.encode('utf-8'))\n",
    "    return text"
   ]
  },
  {
   "cell_type": "code",
   "execution_count": 3,
   "metadata": {},
   "outputs": [
    {
     "name": "stdout",
     "output_type": "stream",
     "text": [
      "Train Text ::  44006\n",
      "Test Text ::  11512\n"
     ]
    }
   ],
   "source": [
    "train_text = readpdf('AJES_article_1_135_EarningPaper.pdf')\n",
    "print('Train Text :: ', len(train_text))\n",
    "test_text = readpdf('03_systematicapproachtotraining.pdf')\n",
    "print('Test Text :: ', len(test_text))"
   ]
  },
  {
   "cell_type": "code",
   "execution_count": 4,
   "metadata": {},
   "outputs": [
    {
     "data": {
      "text/plain": [
       "'b\\'Academic Journal of Economic Studies \\\\n \\\\nV\\\\nol.\\\\n \\\\n3\\\\n, \\\\nNo.\\\\n \\\\n4\\\\n,\\\\n \\\\nDecember \\\\n2017\\\\n,\\\\n \\\\npp. \\\\n9\\\\n6\\\\n\\\\n1\\\\n04\\\\n \\\\nISSN 2393\\\\n-\\\\n4913, ISSN\\\\n \\\\nOn\\\\n-\\\\nline 2457\\\\n-\\\\n5836\\\\n \\\\n9\\\\n6\\\\n \\\\nEmployee Learning Theories \\\\na\\\\nnd Their Organizational Applications\\\\n \\\\n \\\\nAbdussalaam Iyanda Ismail\\\\n1\\\\n, \\\\nAbdul\\\\n-\\\\nHalim Abdul\\\\n-\\\\nMajid\\\\n2\\\\n, \\\\nHammed Oluwaseyi\\\\n \\\\nMusibau\\\\n3\\\\n \\\\n \\\\n \\\\n1,2\\\\nSchool of Business M\\\\nanagement, College of Business, \\\\nUniversiti Utara Malaysia, Sintok, 06010 Kedah, Malaysia\\\\n \\\\n3\\\\nFaculty of Economics and Management of Science, \\\\nUniversiti Sultan Zainal Abidin, Kuala Terengannu, Malaysia\\\\n,\\\\n \\\\n3\\\\nE\\\\n-\\\\nmail: \\\\nmhameed.transinex@gmail.com\\\\n \\\\n(\\\\nCorresponding author\\\\n)\\\\n \\\\n \\\\n \\\\nAbstract\\\\n \\\\nEmpirical evidence identifies that organizational success hinges on employees with the required knowledge, skills, and abilit\\\\nies and \\\\nt\\\\n\\\\norganization adopts. Given this, this work explored employee learning theories and their organizational applications. Using f\\\\nar\\\\n-\\\\nreaching \\\\nliterature survey and extensive theoretical and logical argument and exposition. This paper revealed that cognitive\\\\n-\\\\nbased \\\\napproaches, non\\\\n-\\\\ncognitive approach and need\\\\n-\\\\nbased approaches play vital roles in shrinking the occurrence of unwanted \\\\nbehaviors and up\\\\nturning the occurrence of desired behaviors in the organization. Proper application of the theories can induce \\\\npositive employee behaviors such as task performance and organizational citizenship behavior and consequently enhance both \\\\nindividual and organiz\\\\national performance. This work has hopefully contributed to the enrichment of the existing relevant literature \\\\nand served as a useful guide for stakeholders on how they can stimulate positive employee behaviors and the consequent \\\\nenhanced organizational pe\\\\nrformance\\\\n.\\\\n \\\\nKey words\\\\n \\\\nE\\\\nmployee \\\\nlearning,\\\\n \\\\nemployee behavior, \\\\nemployee\\\\n \\\\ndevelopment\\\\n, human resource development, learning theory\\\\n, need theory, \\\\ncognitive theory\\\\n \\\\n \\\\nJEL Code\\\\ns\\\\n:\\\\n \\\\nM0\\\\n, \\\\nM1\\\\n, \\\\nM5\\\\n \\\\n \\\\n1. \\\\nI\\\\nntroduction\\\\n \\\\nOrganizational feat cannot come about \\\\nexcept through the instrumentality of employees who are equipped with the required \\\\nknowledge\\\\n, skills,\\\\n \\\\nand competencies \\\\n(KSAs) \\\\nneeded for the execution of organizational strategy and planning (Fu, 2013; \\\\nIsmail, 2014; \\\\nand\\\\n \\\\nIsmail\\\\n \\\\net al.\\\\n, 2015a\\\\n).\\\\n \\\\n\\\\nkind of learning technique the organization adopts. Theories of learning and human resource development are useful in \\\\npiloting the workers in developing their career\\\\ns\\\\n. Org\\\\nanizations can improve their employees by giving them the access to a \\\\nbroad spectrum of courses, workshops and self\\\\n-\\\\npaced alternatives. These will enhance their development and at the same \\\\ntime enhance organizational productivity (\\\\nDuggan \\\\na\\\\nnd\\\\n \\\\nMedia, 2013\\\\n).\\\\n \\\\nLike in the theory of behaviorism, it is perceived that positive and negative reinforcement influence learning in the \\\\norganization. Learning that is associated with reinforcement is assumed to induce change in behavior and when there is \\\\nchange in behavior,\\\\n \\\\nthen it means that the theory is effective\\\\n. \\\\nThis strategy can be adopted to make employees adopt the \\\\nnew policies and procedures. Similarly, in the cognitivism learning theory, the focus would be on enhancing mental \\\\nprocesses; rather than physical actions\\\\n. This learning theory indicates that the main role is to help workers to develop their \\\\nknowledge. This approach can be used to embolden their workers to develop their strategic thinking practices, memory and \\\\nproblem\\\\n-\\\\nsolving skills (\\\\nDuggan \\\\nand\\\\n \\\\nMedia, 2013\\\\n).\\\\n \\\\nThe notion that theory is antithetical to practice is a relic of a theoretical thinking. HRD scholars had underscored the \\\\nimportance of theory, and according to Torraco (1997), theory basically explicates the phenomenon the way it works. \\\\nBuilding a theory\\\\n \\\\ninvolves lucid descriptions, details, and exemplifications of observed or experienced phenomena which \\\\nare produced, tested, and impr\\\\noved (Lynham, 2000\\\\n).\\\\n \\\\nGiven this explication, t\\\\nhis research work aims to explore employee learning theories and their organi\\\\nzational applications.\\\\n \\\\n2\\\\n.\\\\n \\\\nLiterature re\\\\nview\\\\n \\\\n2.1. \\\\nR\\\\neinforcement theory\\\\n \\\\nReinforcement theory was initiated by B.F. Skinner \\\\nwhich referred\\\\n \\\\nto as Behaviorism or Operant Conditioning which is still \\\\nuniversally taught in psychology today. The focus of the theor\\\\n\\\\nconsequences (Management Study Guide\\\\n,\\\\n \\\\n2013). The evolution of behaviorism stemmed from the dissatisfaction with the \\\\nintrospective techniques of humanism and psychoanalysis in which some researchers wer\\\\ne displeased with the absence of \\\\ndirectly observable phenomena that could be examined and experimented with. However, Skinner took a different direction \\\\nby relating his thoughts on adjusting motivation through numerous stimuli, industries such as business,\\\\n \\\\ngovernment, \\\\neducation, prisons, and mental institutions to achieve a wider perception of human behavior. Determining why \\\\nan individual \\\\n\\'b\"Academic\\\\n \\\\nJournal o\\\\nf Economic Studies\\\\n \\\\nVol. \\\\n3\\\\n \\\\n(\\\\n4\\\\n),\\\\n \\\\npp. \\\\n9\\\\n6\\\\n\\\\n1\\\\n04\\\\n\\\\n \\\\n \\\\n97\\\\n \\\\nbehave\\\\n \\\\n\\\\nthat \\\\n\\\\nconcept of reinforcement, formalized in his principles of operant conditioning. Also investigated by reinforcement theory are\\\\n \\\\nthe en\\\\nvironmental factors that affect human behavior. Reinforcement theory has four most important approaches which are:\\\\n \\\\n(i) \\\\npositive reinforc\\\\nement ii\\\\n \\\\nnegative reinforcement, \\\\n(iii) extinction, and (iv) \\\\npunishment\\\\n.\\\\n \\\\n2.2. \\\\nA\\\\npplication of reinforcement theory in the workplace\\\\n \\\\n\\\\nupon by the management practitioners that applied psychology techniques can be used to resolve numerous issues in the \\\\norgan\\\\nizations. Skinner\\\\n \\\\n(1973), underscored the significance of recognizing the desired consequence, which will stimulate \\\\n\\\\nresearched and app\\\\nlied in the industrial setting to shrink the occurrence of unwanted behavior and upturn the occurrence of \\\\ndesired behavior. The principles of behavior modification in proffering solution to management issues such as absenteeism \\\\nand tardiness have been prov\\\\ned by the studies of applied reinforcement theory, they can also help in enhancing \\\\nproductivity of employees (Raj\\\\n \\\\net al.\\\\n, 2006\\\\n \\\\nand\\\\n \\\\nAgashi, 2017\\\\n).\\\\n \\\\nThe applicability of reinforcement theory in the organization r\\\\neflects in \\\\nthe \\\\nstudies like Kadlub (\\\\n2009\\\\n)\\\\n. A typical example can \\\\nbe found in the case of Snowfly. Snowfly is a new establishment that schematize\\\\ns\\\\n, employs and manages workforce \\\\nincentive programs. Reinforcement theory which consists of four themes; instant recognition, appropriate incentive rewar\\\\nds, \\\\naccountability, and positive reinforcement was adopted by the company to enhance motivation of the workers (Kadlub, \\\\n2009). However, punishment, otherwise known as applied reinforcement theory of positive punishment (Hockenbury \\\\nand\\\\n \\\\nHockenbury, 2010) has b\\\\neen used more than other types of reinforcement (Waird, 1972). Naturally, diminishing unwanted \\\\nbehaviors can be done using punishment rather than offering a reward and it has been in use for long. However, constant \\\\nuse of punishment to enhance performance \\\\nmakes it becomes a reward (Waird, 1972). Reward entails a fact that an \\\\nemployee is not punished for not involving in undesired behavior but the behavior that is being reinforced is diminishing \\\\nundesired behavior instead of truly making effort to upturn des\\\\nirable behavior.\\\\n \\\\nPositive reinforcement is connected with \\\\nenhancing desirable behavior, performance in the organization\\\\n.\\\\n \\\\n2.3. \\\\nP\\\\nros and cons of reinforcement theory\\\\n \\\\n\\\\nanalysis of the environment to explain\\\\n \\\\n\\\\n \\\\nGlasser (1990) opined that motivation can be diminished in related ac\\\\n\\\\nfeeling of self\\\\n-\\\\ndetermination. The aspects of problem\\\\n-\\\\nsolving and thinking processing among others are not addressed by \\\\nreinforcement theory. The fact is that researches of behaviorism were majorly carr\\\\nied out on animals while the \\\\nenvironmental stimuli are considered to be the modifier of \\\\nbehavior\\\\n \\\\nand not on any internal factors that may be present \\\\n(Funder, 2010\\\\n; Weegar \\\\nand\\\\n \\\\nPacis,\\\\n \\\\n2012 \\\\nand\\\\n \\\\nBaum,\\\\n \\\\n2017\\\\n).\\\\n \\\\n3\\\\n. \\\\nS\\\\nocial learning theory\\\\n \\\\nSocial learning theory, propounded by Albert Bandura, the social learning theory underscores the indispensability of \\\\n\\\\nby way of obser\\\\nvation and modeling. The theory originally evolved from behaviorism was the source from which social \\\\nlearning theory emanated and today it has involved some ideas of cognitivists and consequently it is given another name \\\\nwhich is social cognitive learning.\\\\n \\\\nSocial learning theory also focuses on environmental and cognitive factors that interact in \\\\norder to impact human learning and behavior. It opined that individual learn from one another, including such concepts as \\\\nobservational learning, imitation, and mo\\\\ndeling (Bandura, 2006).\\\\n \\\\n3\\\\n.\\\\n1\\\\n. \\\\nA\\\\npplication of the theory to organization\\\\n \\\\nRewards, according to \\\\nsocial l\\\\nearning theory, cannot be the exclusive \\\\ndrive that enhances\\\\n \\\\n\\\\nMotivation can also be enhanced by some other elements such as feelings, \\\\nbeliefs, ethics, and feedback. Learning occurs \\\\nthrough three ways; indirect experience, oral persuasion, and physiological situations. Modeling, or the scenario in which \\\\nindivid\\\\nual see someone\\'s behaviors, \\\\nembrace and implement them as his, support the lea\\\\nrning process as well as \\\\npsychological situations and the perceptive process.\\\\n \\\\n4\\\\n. \\\\nG\\\\noal setting theory\\\\n \\\\nGoal theory came into limelight five decades ago and since then it has been most\\\\n-\\\\nstudied, applied, and established theory \\\\nof work motivation in the realm of \\\\nindustrial and organ\\\\nizational psychology\\\\n. The early stage of the theory revolves around \\\\n\"b\\'Academic\\\\n \\\\nJournal o\\\\nf Economic Studi\\\\nes\\\\n \\\\nVol. \\\\n3\\\\n \\\\n(\\\\n4\\\\n),\\\\n \\\\npp. \\\\n9\\\\n6\\\\n\\\\n1\\\\n04\\\\n\\\\n \\\\n \\\\n \\\\n98\\\\n \\\\nthe study of stages of aspiration advanced by Kurt Lewin. Then it was furthered by Dr. Edwin Locke by researching on goal \\\\n\\\\ned that there is general connection between goal setting and enhanced \\\\nproduction performance. A goal denotes the purpose of an act or task in which an individual determinedly wishes to \\\\naccomplish (Locke \\\\nand\\\\n \\\\nLatham, 2002;\\\\n \\\\n2006). Goal setting i\\\\nnvolves a deliberate activity of instituting stages of performance \\\\nin order to obtain anticipated consequences. According to the goal setting theory, motivation is sourced from the aspiration \\\\nand plan \\\\nto accomplish a goal\\\\n. \\\\nNormally, a person or a team tha\\\\nt perceive that his/their present performance fall short of \\\\naccomplishing the set goal would be stimulated to either improve his/their efforts or alter his/their strategy (Locke \\\\nand\\\\n \\\\nLatham, 2006).\\\\n \\\\n4\\\\n.1. \\\\nG\\\\noal setting theory conditions\\\\n \\\\nA successful goal\\\\n \\\\nthat would s\\\\ntimulate motivation via the four mechanisms mentioned above is pre\\\\n-\\\\nconditioned to meet \\\\ncertain stipulations. These stipulations are: \\\\n \\\\n\\\\n \\\\nGoal acceptance/goal commitment;\\\\n \\\\n\\\\n \\\\nGoal specificity;\\\\n \\\\n \\\\n\\\\n \\\\nGoal difficulty, and \\\\n \\\\n\\\\n \\\\nFeedback on progress toward the goal\\\\n \\\\nA.\\\\n \\\\nGoal \\\\nAcceptance/Goal Commitment\\\\n \\\\nThe acceptance of a goal determines whether an individual will be motivated through the goal or not. Goal acceptance is \\\\n\\\\ning an accepted \\\\ngoal constitutes what is called goal commitment. Importance attached to the accepted goal and self\\\\n-\\\\nefficacy \\\\nis\\\\n \\\\ncrucial to \\\\ngoal commitment\\\\n \\\\n(Locke \\\\nand\\\\n \\\\nLatham, 2002; 2006).\\\\n \\\\nB.\\\\n \\\\nGoal Specificity\\\\n \\\\nSpecificity and measurability are the indispensable \\\\nfeatures of a typical goal which must give answer to who, what, when, \\\\nwhere, why, and how of the anticipations of the goal.\\\\n \\\\nSpecificity and measurability aspect of goal offer an outer \\\\ncorrespondent like time, space, increment, etc.\\\\n \\\\nA goal of high specifici\\\\nty overtly impact\\\\ns\\\\n \\\\nthe performance the more and \\\\nconsequently gives rise to higher job performance by the worker as against elusive or nonconcrete goals (Locke \\\\nand\\\\n \\\\nLatham, 2002\\\\n).\\\\n \\\\nC.\\\\n \\\\nGoal Difficulty\\\\n \\\\nIn view of the difficulty, it can be asserted that goals are an\\\\n \\\\neffective way of mo\\\\ntivation.\\\\n \\\\nA\\\\n \\\\nhigh\\\\n-\\\\nset goal enhances good \\\\nperformance while such goal should be set low to be abl\\\\ne to accomplish it (PSU, 2012).\\\\n \\\\nIntegrity should also be taken in to \\\\ncognizance while s\\\\netting high performance goals.\\\\n \\\\nAn individual can di\\\\n\\\\ngoal.\\\\n \\\\n \\\\nPutting up too\\\\n-\\\\nmuch high goals is detrimental to motivation and commitment as it also give rooms for a culture of \\\\ncorruption, untr\\\\nuthfulness, and cutting corners\\\\n \\\\n(Bennett, 2009).\\\\n \\\\nD.\\\\n \\\\nFeedback\\\\n \\\\n\\\\ncess is determined by the feedback given as it also \\\\nsustains\\\\n \\\\ngoal commitment. Feedback keeps everybody \\\\nabreast of the progress or otherwise as regards the set goal and this will make it hard analyze the extent of the exertion \\\\nneeded for the successful accom\\\\nplishment of the goal (Sorrentino, 2006). Moreover, through feedback areas of \\\\nweaknesses in the present goals can be sighted by an individual or group of individual\\\\ns\\\\n \\\\nwhich give room for amendment \\\\nthat can be made (Smith \\\\nand\\\\n \\\\nHitt, 2005). Flexibility is an ess\\\\nential feature for both the goal and goal maker (Bennett, 2009). \\\\nSetting more challenging goals can make the feedback effective if it is centralized on such goal (Locke \\\\nand\\\\n \\\\nLantham, \\\\n1979). Putting \\\\nthe\\\\n \\\\nfeedback together, it is indicated that the level of perf\\\\normance of a person, and what such person can do \\\\ndifferently in ord\\\\ner to have better performance.\\\\n \\\\nAlso, like goals, feedback should be specific to convey productive \\\\ninformation regardin\\\\ng meeting objectives\\\\n. Feedback make employee be aware that their tasks\\\\n \\\\nare being assessed and \\\\nrecognition are given to job well done.\\\\n \\\\nGoal setting is commonly utilized in the organizations as a way to enhanc\\\\ne and k\\\\neep \\\\nup task performance.\\\\n \\\\n4\\\\n.\\\\n2.\\\\n \\\\nS\\\\ntrengths and w\\\\neaknesses of the goal setting theory\\\\n \\\\nAccording to Loc\\\\nke\\\\n \\\\nand Latham (20\\\\n02)\\\\n, goal\\\\n-\\\\nsetting theory becomes famous theory and widely\\\\n-\\\\nused among\\\\n \\\\norganizational \\\\npsychologists because there are all\\\\n-\\\\nencompassing empirical studies that put weight behind\\\\n \\\\n\\\\n \\\\nvirtual straightforward\\\\nness as against other theori\\\\nes.\\\\n \\\\nGoal setting theory success transcends work force: Lock and Latham \\\\n\\'b\\'Academic\\\\n \\\\nJournal o\\\\nf Economic Studies\\\\n \\\\nVol. \\\\n3\\\\n \\\\n(\\\\n4\\\\n),\\\\n \\\\npp. \\\\n9\\\\n6\\\\n\\\\n1\\\\n04\\\\n\\\\n \\\\n \\\\n99\\\\n \\\\nhave utilized their all\\\\n-\\\\nembracing investigation to define the high extent of generalizability, such that it is useable to individual \\\\nworker, teams, organizational entities, and the whol\\\\ne organizations\\\\n\" (Lock \\\\nand\\\\n \\\\nLatham, 2002\\\\n).\\\\n \\\\n \\\\n5\\\\n. \\\\nN\\\\need theories\\\\n \\\\n\\\\nneeds theories.  The theories portend that unsatisfied needs can encourage and drive individual as in some situations, \\\\nsatisfaction \\\\nof needs should be hierarchical whereby some lower needs come first and followed by the higher needs in \\\\nterms of \\\\nfulfillment\\\\n. Defining the motivation, it can be generally stated that motivation refers to the aspiration to accomplish \\\\na goal, pooled with the \\\\nvigor\\\\n, will power and chance to accomplish it. Needs theories comprise of Hierarchy of Needs theory \\\\nwhich was propounded by Abraham H. Maslow in 1943, Existence Related Growth (ERG) Theory by \\\\nAlderfer, C. P., \\\\nand \\\\nNeed Theory by McClelland, D. in 1960s,\\\\n \\\\nwhi\\\\nle building off of work was developed by Murray, H. A.\\\\n \\\\n5\\\\n.1. \\\\nH\\\\nierarchy of needs of \\\\nA\\\\nbraham\\\\n \\\\nM\\\\naslow\\\\n \\\\n\\\\n\\\\nrtended that the first important needs to be accomplished for someone who \\\\nis devoid of everything in his life are the physi\\\\nological needs (Maslow, 1943). \\\\nFive arrays of needs constituted the \\\\ntheoretical framework proposed by Maslow in the article. Two cla\\\\nssifications were formed out of these five arrays of needs: \\\\nbasi\\\\nc needs and higher\\\\n-\\\\norder needs.\\\\n \\\\nNormally, the theory of needs developed by Maslow is always captured in a pyramidal shape in which the basic needs are \\\\nsituated at the bottom while the higher \\\\nneeds at the top. This portends the order of importance of the needs. Physiological \\\\nneeds are the most vital and widest among them and were placed at the base of the pyramid (Redmond, 2010).\\\\n \\\\n\\\\nfulfillment\\\\n \\\\nprogression portends \\\\nthat the accomplishment of the higher\\\\n-\\\\norder needs is \\\\ndetermined by the acc\\\\nomplishment of the basic needs \\\\n(Redmond, 2010).\\\\n \\\\nIn the later time, Maslow made some adjustment \\\\nto his hierarchy of needs by changing the position of the last platform and replacing i\\\\nt with three new platforms. These \\\\ninclude:\\\\n \\\\n\\\\n \\\\nCognitive Needs: this form the fifth platform or stage and it \\\\nindicate\\\\n \\\\nthe need for knowledge and meaning.\\\\n \\\\n\\\\n \\\\nAesthetic Needs: this forms the sixth platform and it embodies the acknowledgement of beauty, form, and b\\\\nalance, \\\\nincluding the \\\\nactions that are\\\\n \\\\nconnected with seeking it.\\\\n \\\\n\\\\n \\\\nSelf\\\\n-\\\\nactualization Needs: this is the seventh platform. Formally it was in the platform five. This platform, according to \\\\nHuitt (2004), constitutes th\\\\ne peak rank of needs. These \\\\nneeds \\\\ninvolve\\\\n \\\\nperpetual concentration on personal development, \\\\nproblem solving, life pleasure and ultimate experiences for oneself (Huitt, 2004).\\\\n \\\\n\\\\n \\\\nTranscendence Needs: This is the last platform added. It refers to the need to assist other individuals to accomplish \\\\ntheir\\\\n \\\\npotentials and self\\\\n-\\\\nactualization (McLeod, 2007).\\\\n \\\\n5\\\\n.2\\\\n. \\\\nA\\\\npplicability of the \\\\nM\\\\naslow\\\\n\\\\ns theory in the organization\\\\n \\\\nHierarchical theory, propounded by Maslow, is a useful tool in instilling the motivation into workers which will consequently\\\\n \\\\ninfluence the behavio\\\\n\\\\naffected by both external and internal factors. Among the internal factors is motivation. Manager should perceive that lower\\\\n-\\\\nlevel needs should be given prefe\\\\nrence above higher\\\\n-\\\\nlevel needs. This will enhance organizational effectiveness in meeting \\\\nthose needs. Meeting the physiological needs involves a reasonable competitive wage, lunch/coffee breaks, fitness \\\\nfacilities, and creation of company cafeterias so th\\\\nat the employee feels comfortable that his/her basic needs are satisfied.  \\\\nIn addition, good working condition and safe working environment constitute a good part of it.\\\\n \\\\n5\\\\n.3. \\\\nS\\\\ntrengths and weaknesses of \\\\nA\\\\nbraham\\\\n \\\\nM\\\\naslow\\\\n \\\\nAlthough it is devoid of confirmative proo\\\\n\\\\nmeans that the theory \\\\nunderscores\\\\n \\\\nthe awareness of emotions and this is the major strengths of the theory. This attracts the practitioners to adopt \\\\nthe theory. However, it is hard to have pragmatic and e\\\\n\\\\n\\\\n \\\\nare not homogenous. For instance, self\\\\n-\\\\nesteem and self\\\\n-\\\\nactuali\\\\nzation can be of much dissimilar in terms of meanings to \\\\ndivergent cultures. Included is the fact that the theory was formed in the American context and thus, it cannot be applicable\\\\n \\\\neverywhere like in the collective societies; in this kind of society self\\\\n-\\\\nesteem is somewhat insignificant (Gambrel \\\\nand\\\\n \\\\nCiani, \\\\n2003).\\\\n \\\\nIt is noteworthy here that Maslow had the intention of modifying his theory due to these weaknesses. Later, the need \\\\nof self\\\\n-\\\\ntranscendence was introduced.\\\\n \\\\n \\\\n\\'b\"Academic\\\\n \\\\nJournal o\\\\nf Economic Studi\\\\nes\\\\n \\\\nVol. \\\\n3\\\\n \\\\n(\\\\n4\\\\n),\\\\n \\\\npp. \\\\n9\\\\n6\\\\n\\\\n1\\\\n04\\\\n\\\\n \\\\n \\\\n \\\\n100\\\\n \\\\n6\\\\n. \\\\nERG \\\\ntheory\\\\n \\\\nAlderfer, C. P. (1969), for th\\\\ne first time propounded the ERG Theory of Motivation. The ERG theory is an expansion on \\\\nMaslow\\'s theory by giving more rooms for more flexibility of movement between needs. The levels of need were integrated \\\\nand diminished into three while it gives conside\\\\nration to individual differences. Equally, it gives room for pursuance of \\\\ndiv\\\\nergent needs at the same time.\\\\n \\\\n1. \\\\nExistence Needs:  This contains physiological and safet\\\\ny needs in the Mas\\\\n\\\\n \\\\n2. \\\\nRelatedness Needs:  This refers to social relation\\\\nships and external esteem\\\\n \\\\n3. \\\\nGrowth Needs:  This comprises of internal esteem and self\\\\n-\\\\nactualization.\\\\n \\\\n\\\\n\\\\n \\\\ntheory varies from ERG theory in the aspect of the direction of meeting the needs. \\\\n \\\\nAccording to Hunter, Rauschenberger and Schmitt (1990), dynamism is a great strength for ERG theory. It acknowledges \\\\nindividual differences and the factors that can impact\\\\n \\\\nindividual needs from time to time. Thus, the theory proffers solution \\\\nto analyzing the dynamics of human needs that usually transpire in the organization. The theory also stresses flexibility.  \\\\n \\\\nHowever, the flexibility which is allowed by the theory can\\\\n \\\\nbe its weak point as there is \\\\ndearth\\\\n \\\\nof studies on it. Whereas \\\\n\\\\ny, \\\\n\\\\ntiple needs encourages and stimulates employee and \\\\nconsequently enhance their performances. Also, it portends that it is not necessary to meet needs in a given \\\\norder;\\\\n \\\\nthere \\\\ncan be movement back and forth from one need to another. \\\\n \\\\n \\\\nFigure 1\\\\n.\\\\n \\\\nERG\\\\n \\\\ntheory\\\\n \\\\nSource:\\\\n \\\\nRedmond (2010)\\\\n \\\\n \\\\n6.1. \\\\nN\\\\need theory of\\\\n \\\\nM\\\\nc\\\\nC\\\\nlelland\\\\n \\\\nThis need theory was propounded by McClelland. He, the developer, recognized three needs as stimulating and \\\\n\\\\nhas divergent\\\\n \\\\ndegree of needs.\\\\n \\\\n6.2. \\\\nN\\\\needs according to the theory\\\\n \\\\nAchievement Motivation Needs: individual accountability; challenging situation, yet\\\\n-\\\\nto\\\\n-\\\\naccomplished goals; and \\\\nperformance feedback are attractive to the individual that possesses a high need for achievement \\\\n(Stuart\\\\n-\\\\nKotze, 2009).\\\\n \\\\nAuthority/Power Motivation \\\\n\\\\n \\\\npeople that love\\\\n \\\\nto have authority and power are kin to exert influence on other people. These \\\\nkinds of people would prefer having control, motivation personal status and prestige.\\\\n \\\\nAffiliation Motivatio\\\\nn \\\\n\\\\n \\\\n\\\\n-\\\\nKotze, 2009).\\\\n \\\\n\\\\nthe fact that nu\\\\n\\\\n\\\\nn \\\\nbe at the younger age and\\\\n \\\\n\\\\npositive organizational behaviors and performance.  Conversely, the theory is perceived to be devoid of predictive power in \\\\nrespect of entrepreneurship. Direct \\\\nconnection is not found between entrepreneurial intent and the need for achievement \\\\nbecause of some stimulating factors that ind\\\\nuce entrepreneurial intent (\\\\nOyugi, 2014)\\\\n. Additionally, \\\\ncultures with its different \\\\nconnotations have\\\\n \\\\nsome important influences on the need for achievement. To some people, failure is viewed as a learning \\\\nexperience that permits the chance to progress and develop to be sturdier in the aspects that triggered the hindrance. \\\\nHowever, some people concentrate \\\\non the regressive side of failing to accomplish.\\\\n \\\\n\"b\\'Academic\\\\n \\\\nJournal o\\\\nf Economic Studies\\\\n \\\\nVol. \\\\n3\\\\n \\\\n(\\\\n4\\\\n),\\\\n \\\\npp. \\\\n9\\\\n6\\\\n\\\\n1\\\\n04\\\\n\\\\n \\\\n \\\\n101\\\\n \\\\n7. \\\\nE\\\\nxpectancy theory\\\\n \\\\nExpectancy theory, otherwise known as process theory, explicates the reason for giving preference \\\\nfor one behavior over \\\\nanother. \\\\nThis theory was originally propounded by Victor Vroom of t\\\\nhe Yale School of Man\\\\nagement in 1964. Redmond \\\\n(2010)\\\\n \\\\nobserved that a person that expects desired consequence would be stimulated and encouraged to take a decision \\\\nthat will give rise\\\\n \\\\nto that outcome\\\\n. An employee that has belief in his sets of goals would \\\\nbe galvanized and stimulated to \\\\nachieve such goals since he believes those goal can lead to desired outcome which will enhance him good reward. The \\\\naspiration to \\\\nfulfill\\\\n \\\\na need is capable enough to make the work valuable.\\\\n \\\\nConsidering the connection between \\\\neffort and performance, managers should assign a task that is quite challenging to \\\\navoid dullness, frustration and minimal performance on the part of the workers.  Managers should also be aware of \\\\ndivergent skills and abilities of the workers while it is e\\\\nqually necessary to assign tasks based on the capability and \\\\ncompetencies of individual employee. This is because an employee who perceives he cannot accomplish the task assigned \\\\nto him would be demotivated and the connection between E\\\\n-\\\\nP would be fragile. \\\\nIt should also be perceived by the \\\\nmanagers that employees differ in terms of self\\\\n-\\\\nesteem in accomplishing assigned task and here confidence of the \\\\nemployee is germane to be able come up with good performance that will bring about aspired outcome and rewar\\\\nd.\\\\n \\\\n7.1. \\\\nA\\\\npplication of expectancy theory in the organization\\\\n \\\\nExpectancy theory can be used to influence employee behavior. Employee would be motivated to involve in HRD activities \\\\nif he expects that it will benefit him by enhancing his performance. Employee w\\\\nill feel encouraged to attend training if he \\\\nexpects that it will enhance his knowledge and if he knows that the outcome of his efforts will be rewarded (Werner et al., \\\\n2009).\\\\n \\\\nHowever, expectancy theory was criticize\\\\nd for utilizing between\\\\n-\\\\nsubject\\\\n \\\\nstrategi\\\\nes. This is because VIE\\\\n \\\\ntheory was \\\\npropounded to analyz\\\\ne the dissimilarities within the individual and not across divergent subjects, considering these \\\\ndissimilarities,\\\\n \\\\nit does not result to valid results (Redmond, 2010).\\\\n \\\\n8. \\\\nA\\\\ndult learning theory\\\\n \\\\nLieb (1991)\\\\n \\\\nopined that perceiving the best method through which the adult can lean forms the basis for being a successful \\\\ncoach. Adult learning theory, otherwise known as andragogy is a theory that came up with an array of assumptions in \\\\nrespect of the methods throu\\\\ngh which the adults pass through learning. Adult learning approach stresses the importance of \\\\nlearning process. The theory proposes that learning approach should not be instructive, it should rather be problem\\\\n-\\\\nbased \\\\nand two\\\\n-\\\\nway and that the teacher\\\\n-\\\\nlearner\\\\n \\\\nrelationship should be egalitarian\\\\n \\\\n(Fidishun 2000).\\\\n \\\\nKnowles, who is an American expert and theorist of adult education, recognized for adult learning six principles. They are \\\\nas follow:\\\\n \\\\n\\\\n \\\\nAdults have the feature of being internally inspired and enthused and\\\\n \\\\nself\\\\n-\\\\ndirected\\\\n \\\\n\\\\n \\\\nAdults have the feature of integrating life experiences and knowledge with learning experience\\\\n \\\\n\\\\n \\\\nAdults focus on goal they set\\\\n \\\\n\\\\n \\\\nAdults focus on the germaneness of the learning\\\\n \\\\n\\\\n \\\\nAdults are practical\\\\n \\\\n\\\\n \\\\nAdult learners are fond of being regarded\\\\n \\\\n8.1. \\\\nA\\\\npplication of \\\\nK\\\\n\\\\n \\\\nAdults are internally motivated and self\\\\n-\\\\ndirected. In a situation whereby information, ideas or actions are felt to be imposed \\\\non the adults who are learners. Such adults would defy such learning (Fidishun, 200\\\\n0). HRD executives should ensure that \\\\ntraining to be given to the senior employees should be more toward self\\\\n-\\\\ndirected and responsible learning. Also\\\\n,\\\\n \\\\nit should \\\\n\\\\n \\\\nSenior employees \\\\nshould be given a chance to apply their standing kitty of knowledge and experience acquired from their \\\\nlife experiences to their new learning experiences. This can be achieved through surveying their interests and past \\\\nexperiences, be it personal experienc\\\\ne or others, and then help in integrating those experiences in to the new learning.\\\\n \\\\nAs cited by Fidishun (2000), Knowles (1980) observed that establishing a need to learn for the purpose of proffering \\\\nsolution to a particular problem in the organization ca\\\\nn stimulate the senior employees in the organization to learn because \\\\nthey are goal\\\\n-\\\\noriented. It would be imperative to establish the link and the relevance of what is being learnt by the senior \\\\nemployee to what they are to accomplish. This would boost the\\\\nir commitment to the learning.\\\\n \\\\nSenior employees in the \\\\norganization would, due to their life and working experiences they have acquired over time, like learning that is task\\\\n-\\\\ncent\\\\nralized or problem\\\\n-\\\\ncentralized \\\\n(Sessa \\\\nand\\\\n \\\\nLondon\\\\n,\\\\n \\\\n2015)\\\\n.\\\\n \\\\n \\\\n \\\\n\\'b\"Academic\\\\n \\\\nJournal o\\\\nf Economic Studi\\\\nes\\\\n \\\\nVol. \\\\n3\\\\n \\\\n(\\\\n4\\\\n),\\\\n \\\\npp. \\\\n9\\\\n6\\\\n\\\\n1\\\\n04\\\\n\\\\n \\\\n \\\\n \\\\n102\\\\n \\\\n9. \\\\nI\\\\nnformation processing theory\\\\n \\\\nThe information processing theory is an approach that is useful in the research aspects like cognitive development, \\\\nneuroscience, social learning, and artificial intelligence. The theory is mental and perceptive related. This is associated w\\\\nith \\\\na per\\\\nception of how sensation\\\\n-\\\\nbased or sensory information is being processed by the mind of human being. The theory \\\\nproposes that information serves as an input from the environment and it passes through mental pro\\\\ncesses using sensory \\\\norgans. The\\\\ns\\\\ne\\\\n \\\\nmental a\\\\nnd \\\\nsensory processes\\\\n \\\\ninvolve\\\\n \\\\nmany paths based on the responsiveness, encoding, recognition, and \\\\nstorage. The volume of information to be processed by the cognitive systems is determined by the central executive \\\\nfeature, which \\\\nare\\\\n \\\\nmore primitive sensory areas o\\\\nf the brain. This central executive feature will firstly receive the information \\\\nfrom the environment and then processes it, it will also control which of the environmental contribution will be processed. \\\\nThe theory it observes real time reactions to obtai\\\\nnable inducements and the way human mind process and \\\\ntransmutes\\\\n \\\\nthe \\\\ninformation it receives from the environment.\\\\n \\\\nAlthough no one among the theorist had made a claim of developing the theory, researches have shown that a unanimous \\\\nmodel was polished by Atk\\\\ninson and Shiffrin in 1968. This is referred to as the modal model. The emergence of the theory \\\\n(Information processing theory) can be traced to the cognitive upheaval that occurred in the late 1950\\'s when the computer \\\\nwas designed. Cogn\\\\nitive processes wer\\\\ne\\\\n \\\\nmade in line with the computer method data processing.\\\\n \\\\n \\\\n9.1. \\\\nA\\\\npplicability of the information processing theory in the organization\\\\n \\\\nThe theory is applicable to many \\\\nareas among which \\\\nare business organizations\\\\n. In the research conducted by Rogers\\\\n \\\\net \\\\nal.\\\\n \\\\n(1999), Information Processing Theory was adopted to \\\\nanalyze\\\\n \\\\nand designate organizational behavior. The theory was \\\\nalso ado\\\\npted to depict an approach that will designate the successful and unsuccessful business strategies. The \\\\norganizational constituents are said to be receiving the input (information) from the market. The constituents of the \\\\norganization will then process the\\\\n \\\\ninformation from the market. In the process, the gatekeepers will scrutinize the \\\\ninformation to select the most appropriate one from the information for the organization. Then, it will be integ\\\\nrated into the \\\\ncurrent culture.\\\\n \\\\nThis information can also be \\\\nused to determine and design the program for employee development and \\\\nemployee learning.\\\\n \\\\n \\\\nFigure 2\\\\n. Information\\\\n \\\\nP\\\\nrocessing \\\\nM\\\\nodel\\\\n \\\\n \\\\n9.2. \\\\nI\\\\nmplications for \\\\nHRD\\\\n \\\\ntheory research and practice\\\\n \\\\nTimes are indisputable changing. How organizations solve the complexities of the world. As organizations pay to innovation \\\\nto sustain competitive advantage, since their success likes on sustainability. It is highly imperative for the firm to hire H\\\\nRD \\\\nexper\\\\nts and provide training for their staffs in order to compete in the business environment. Waite (2014) synthesis of \\\\ndifferent literatures and conclude that HRD need to integrate HRD concepts so that organizations may overcome resistance \\\\nto change and thriv\\\\ne while reaching a higher purpose to find the win\\\\n-\\\\nwin. i.e. minimize cost at all time and maximize \\\\n\\\\ncreativities in organizations produc\\\\ne a powerful framework for HRD researchers and a priceless learning tool for HRD \\\\nexperts.\\\\n \\\\nEhlen \\\\net al\\\\n. (2014) hinted that it is essential to treat innovation as an organic process and stick to organizational \\\\n\"b\"Academic\\\\n \\\\nJournal o\\\\nf Economic Studies\\\\n \\\\nVol. \\\\n3\\\\n \\\\n(\\\\n4\\\\n),\\\\n \\\\npp. \\\\n9\\\\n6\\\\n\\\\n1\\\\n04\\\\n\\\\n \\\\n \\\\n103\\\\n \\\\nobjectives. However, successful innovation will \\\\nbe achieved via rigid organizational structures. It is imperative for HRD \\\\nexperts to more organic role and improve \\\\n\\\\n \\\\neffort to be productive than under\\\\ntaking unplanned interventions.\\\\n \\\\nKearney et al. (2014) studied\\\\n \\\\nmicro\\\\n-\\\\nfirms in a volatile industry and economy\\\\n. They\\\\n \\\\nhinted\\\\n \\\\nthat leadership; strategic thinking; \\\\nproblem solving and people relationships are four criteria for small firms\\' managerial capability and the interaction of thes\\\\ne \\\\ncapabilities and resource in pr\\\\nocess mediated by dynamic capabilities and resource based.\\\\n \\\\nHRD interventions\\\\n \\\\nis important \\\\nto achieve organizational \\\\ngoals since\\\\n \\\\nenhancement of their managerial capabilities, especially when interacted with key \\\\nresources, enhance innovation within micro fir\\\\nms, especially hotels, which, in turn enhances the overall performance of \\\\nthese \\\\norganizations\\\\n.\\\\n \\\\n9.3. \\\\nC\\\\nriticisms against the information processing theory\\\\n \\\\nThe models in the Information Processing Theory do not give consideration to concurrent or comparable proces\\\\nsing. They \\\\nconsider the mental and cognitive processing in a simplistic way. Those models also consider the processing of the \\\\ninformation as mostly a direct procedure. \\\\n \\\\nFurthermore, the information processing theory is \\\\ncriticized\\\\n \\\\nfor similarizing human \\\\ncog\\\\nnitive system to computer system. This is disgusting to some people and in real fact computer programs cannot mimic \\\\nand replicate full cognitive system of human being.\\\\n \\\\nAlso, although the computer built\\\\n-\\\\nin models which are connected with \\\\nthis theory are gre\\\\natly compound, they cannot consider all shades of human cognition. Likewise, the theory fails to \\\\nrecognize the important progressive changes in the human cognition (Rogers\\\\n \\\\net al\\\\n.\\\\n, 1999).\\\\n \\\\nThe theory does not take into \\\\ncognizance the divergence of \\\\n\\\\n \\\\n10. \\\\nC\\\\nonclusion\\\\ns\\\\n \\\\nIn this write\\\\n-\\\\nup, efforts have been made to explicate HRD and theories that are connected with employee learning. Those \\\\ntheories that were explicated are reinforcement theory, social learni\\\\nng theory, goal theory, need theories, expectancy \\\\ntheory, adult learning theory, and information processing theory. Expectancy theory, goal setting theory\\\\n,\\\\n \\\\nsocial learning \\\\ntheory\\\\n,\\\\n \\\\nand adult learning theory are cognitive\\\\n-\\\\n\\\\n\\\\ntheory are need\\\\n-\\\\nbased approaches. Reinforcement theory has to do with external forces and therefore it is a non\\\\n-\\\\ncognitive \\\\napproach. All these theories play vital roles in influencing employee behavior in the organization. The \\\\nultimate goal of HRD \\\\nis to influence employee behavior (task performance and organizational citizenship behavior) to enhance both individual \\\\nand organizational performance and to enable both to achieve their goals. Therefore, it can be concluded that all t\\\\nhe \\\\naforementioned theories are very useful in influencing employee behavior. Scholars and researchers have conducted their \\\\nstudies on these theories in relation to business organizations and HRD functions in the organizations and they are found \\\\nvery useful\\\\n \\\\nin influencing employee behavior which will in turn enha\\\\nnce organizational performance.\\\\n \\\\n \\\\nR\\\\neference\\\\ns\\\\n \\\\nAgashi, I. A. (2017). Labour\\\\n-\\\\nManagement Relations in Public Organization: A Case of Enugu State PHCN (Doctoral dissertation).\\\\n \\\\nAlderfer, C.\\\\nP. (1969). An \\\\nempirical test of new theory of human need. Organizational Behavior and Human Performance, 4(1): 142\\\\n\\\\n175.\\\\n \\\\nAlderfer. Envision Software Articles\\\\n \\\\n(\\\\n2006\\\\n)\\\\n. Retrieved on 2nd December\\\\n, \\\\nhttp://www.envision\\\\nsoftware\\\\n.com\\\\n/articles/E\\\\nRG_Theory.html\\\\n.\\\\n \\\\nAtkinson, R.\\\\nC., and Shiffrin, R. M. (1968). Human memory: A proposed system and its control processes. The psychology of learning \\\\nand motivation, 3, 89\\\\n-\\\\n105.\\\\n \\\\nBanaji, M.\\\\n \\\\n(2011).\\\\n \\\\nReinforcement theory. Harvard gazette. Retrieved from\\\\n \\\\nhttp://news.harvard\\\\n.\\\\nedu/\\\\ngazette/story/\\\\nmultimedia/\\\\n \\\\nreinforcement\\\\n-\\\\ntheory/\\\\n \\\\nBandura, A. (2006). Toward a psychology of human agency. \\\\nPerspectives on Psychological Science, 1, 164\\\\n-\\\\n180.\\\\n \\\\nBaum, W. M. (2017). \\\\nUnderstanding behaviorism: B\\\\nehavior, culture, and evolution. John Wiley \\\\nand\\\\n \\\\nSons.\\\\n \\\\nBennett, D. (2009). Ready, aim... fail. Why setting goals can backfire. The Boston Globe, C1.\\\\n \\\\nDeci, E. L., and Ryan, R. M. (1985). Intrinsic motivation and self\\\\n-\\\\ndetermination in human behavior. New York: \\\\nPlenum.\\\\n \\\\nDuggan, T and Media, D. (2013). Theories of Learn\\\\ning\\\\n \\\\nHuman Resource Development.\\\\n \\\\nRetrieved on 2nd December 2016 from \\\\nhttp://smallbusiness.chron.com/aims\\\\n-\\\\nobjectives\\\\n-\\\\nhr\\\\n-\\\\ndevelop\\\\nment\\\\n-\\\\n10943.html.\\\\n \\\\nCarliner, S., \\\\nand\\\\n \\\\nShank, P. (Eds.). (2016).\\\\n \\\\nThe e\\\\n-\\\\nlearning h\\\\nandbook: pas\\\\nt promises, present\\\\n \\\\nchallenges\\\\n. John Wiley \\\\nand\\\\n \\\\nSons.\\\\n \\\\nEhlen, C., Van der Klink, M., Roentgen, U., Curfs, E., \\\\nand\\\\n \\\\nBoshuizen, H. (2014). Knowledge productivity \\\\nfor sustainable innovation: \\\\nsocial capital as HRD target. European Journal of Training and Development, 38(1/2), 54\\\\n-\\\\n74.\\\\n \\\\nEnvision Software Incorporated. (2007). ERG T\\\\nheory of Motivation\\\\n-\\\\n \\\\nClayton P.\\\\n \\\\nFang, C.\\\\nY. (2008). \\\\nThe moderating effect of impression m\\\\nanagement on the organizational politics performance relationship. Journal of \\\\nBusiness Ethics, 79(3).\\\\n \\\\nFidishun, D. (2000). Andragogy and technology: Integrating adult learning theory as we teach with technology. Conference Pape\\\\nr, 5th \\\\nAnnual Instructional T\\\\nechnology Conference. Tennessee State University.\\\\n \\\\nFried, Y., \\\\nand\\\\n \\\\nSlowik, L.\\\\nH. (2004). Enriching goal\\\\n-\\\\nsetting theory with time: An integrated approach. Academy of Management Review, \\\\n29(3): 404\\\\n-\\\\n422.\\\\n \\\\n\"b\"Academic\\\\n \\\\nJournal o\\\\nf Economic Studi\\\\nes\\\\n \\\\nVol. \\\\n3\\\\n \\\\n(\\\\n4\\\\n),\\\\n \\\\npp. \\\\n9\\\\n6\\\\n\\\\n1\\\\n04\\\\n\\\\n \\\\n \\\\n \\\\n104\\\\n \\\\nFu, N. (2013). Exploring the Impact of High Performance Work\\\\n \\\\nSystems in Professional Service Firms: A Practices\\\\n-\\\\nResources\\\\n-\\\\nUses \\\\nPerformance Approach. Consulting Psychology Journal: Practice and Research, 65(3), 240\\\\n\\\\n257.\\\\n \\\\nFunder, D. C. (2010).\\\\n \\\\nThe Personality Puzzle. (5th Edition). New York London: W.W. Norton \\\\nand\\\\n \\\\nComp\\\\nany.\\\\n \\\\nGambrel, P., and Cianci, R. (2003). Maslow\\'s Hierarchy of Needs: Does It Apply In A Collectivist Culture. The Journal of Appl\\\\nied \\\\nManagement and Entrepreneurship, 8(2), 143\\\\n-\\\\n61.\\\\n \\\\nGlasser, W. (1990). The Quality School. New York: Harper \\\\nand\\\\n \\\\nRow.\\\\n \\\\nHockenbury,\\\\n \\\\nD. H., and Hockenbury, S. E. (2010). Psychology. (5th ed\\\\n.). New York: Worth Publishers.\\\\n \\\\nHuitt, W. (2004). Maslow\\'s Hierarchy of Needs. Retrieved from: http://ways\\\\n-\\\\n \\\\nahead.net /meditation/037\\\\n-\\\\n2\\\\n-\\\\nMaslow.pdf.\\\\n \\\\nHunter, J., Rauschenberger, J., and Schmitt, N. (D\\\\nec 1990). A Test of the Need Hierarchy Concept by a Markov Model of Change in \\\\nNeed Strength. Administrative Science Quarterly, Vol. 25, No. 4, pp. 654\\\\n-\\\\n670. \\\\n \\\\nIsmail, A.I. (2014). The Mediating Role of Distributive Fairness in the Relationship Between Perfor\\\\nmance\\\\n-\\\\nBased Pay, Career Incentives, \\\\nOrganizational Ben\\\\nefits and Employee Performance\\\\n \\\\n(Master thesis, Universiti Utara Malaysia).\\\\n \\\\nIsmail, A.I., Abdul\\\\n-\\\\nHalim, A.M., \\\\nand\\\\n \\\\nJoarder, M. H. R. (2015a). Mediating Role of Distributive Justice in the Relationship betwe\\\\nen career \\\\nIncentives and Employee Performance. Journal of Economics, Business and Management, 3, (10), 929\\\\n-\\\\n935.\\\\n \\\\nKadlub, L. (2009). A Little Fun Improves Performance. Northern Colorado Business Report. Retrieved from \\\\nhttp://www.ncbr.\\\\n \\\\ncom/\\\\n \\\\narticle.asp?id=99789\\\\n.\\\\n \\\\nKapp, J., Smith\\\\n-\\\\nHunter, A., \\\\nand\\\\n \\\\nYonkers, V. (2003). A Psychological Model of Entrepreneurial Behavior. Journal of the Academy of \\\\nBusiness and Economics.\\\\n \\\\nKearney, A., Harrington, D., \\\\nand\\\\n \\\\nKelliher, F. (2\\\\n014). Exploiting managerial capability for innovation in a micro\\\\n-\\\\nfirm context: New and \\\\nemerging perspectives within the Irish hotel industry. European Journal of Training and Development, 38(1/2), 95\\\\n-\\\\n117.\\\\n \\\\nKnowles, M. S. (1980). The modern practice of adult\\\\n \\\\neducation: From pedagogy to andragogy. Chicago: Follett.\\\\n \\\\nLieb, S. (1991). Principles of adult learning, Phoenix, AZ: Vision \\\\n\\\\n \\\\nSou\\\\nth Mountain Community College.\\\\n \\\\nLocke, E.\\\\nA., \\\\nand\\\\n \\\\nLatham, G.\\\\nP. (1979). Goal setting\\\\n-\\\\nA motivational technique that works. \\\\nOrganizational Dynamics, 8(2): 68\\\\n-\\\\n80.\\\\n \\\\nLocke, E.\\\\nA., and Latham, G.\\\\nP. (2002). Building a practically useful theory of goal setting and task motivation: A 35\\\\n-\\\\nyear odyssey. \\\\nAmerica\\\\nn Psychologist, 57(9): 705\\\\n-\\\\n717.\\\\n \\\\nLocke, E.\\\\nA., and Latham, G.\\\\nP. (2006). New d\\\\nirections in goal\\\\n-\\\\nsetting theory. Current Directions in Psychol\\\\nogical Science, 15(5): 265\\\\n-\\\\n268.\\\\n \\\\nLuthans, F.,\\\\n \\\\nKreitner\\\\n, R. (1985)\\\\n.\\\\n \\\\nOrganizational behavior modification and beyond: An operant and social learning approach (2nd ed.). \\\\nGlenview, IL: Scott, F\\\\noresman.\\\\n \\\\nLynham, S. A. (2000). Theory building in the HRD profession. Human Resource Development Quarterly. 11 (2): 159\\\\n-\\\\n178.\\\\n \\\\nMaslow, A. (1943). A Theory of Human Motivation. Psychological Review, 50: 370\\\\n-\\\\n396.\\\\n \\\\nMcClelland, D.C. (1965). Toward a theory of mot\\\\nive acquisition. American Psychologist, 20: 321\\\\n-\\\\n333.\\\\n \\\\nMcLeod, S.\\\\nA. (2007)\\\\n. Maslow\\'s Hierarchy of Needs\\\\n-\\\\nSimply Psychol\\\\nogy. Retrieved from http://www.\\\\nsimplypsychology.org/\\\\n \\\\nmaslow.\\\\n \\\\nhtml#self2.\\\\n \\\\nOracle (2012). Goal Setting: A Fresh Perspective.  Redwood Shores\\\\n, CA. \\\\nRetrieved from \\\\nhttp://www.oracle.com/us/\\\\n \\\\nmedia1/goal\\\\n-\\\\nsetting\\\\n-\\\\nfresh\\\\n-\\\\nperspective\\\\n-\\\\nee\\\\n-\\\\n1679275.pdf\\\\n \\\\nOyugi, J.\\\\nL. (2014). Effectiveness of the methods of teaching \\\\nentrepreneurship courses to developing self\\\\n-\\\\nefficacy and intention among \\\\nuniversity students in Uganda. International Journal of Social Sciences and Entrepreneurship, 1(11), 491\\\\n-\\\\n513.\\\\n \\\\nRaj, J., Nelson, J., and Rao, K. S. P. (2006). Behavior Modification. A S\\\\ntudy on the Effects of Some Reinforces to Improve Performance \\\\nof Employees in a Retail Industry, 30(6): 844\\\\n-\\\\n866.\\\\n \\\\nRedmond, B.F. (2010). \\\\nReinforcement Theory:  What are the Rewards for My Work? Work Attitudes and Motivation.  The Pennsylvania \\\\nState Universi\\\\nty; World Campus.\\\\n \\\\nRogers, P.\\\\nR., Miller, A., and Judge, W. Q. (1999). Using information\\\\n-\\\\nprocessing theory to understand planning/performance \\\\nrelationships in the context of strategy. Strategic Management Journal, 20, 567\\\\n-\\\\n577.\\\\n \\\\nSessa, V.\\\\nI., \\\\nand\\\\n \\\\nLondon, M. (2015). Continuous learning in organizations: Individual, group, and organizational perspectives. \\\\nPsychology Press \\\\n \\\\nSkinner, B.\\\\nF.\\\\n \\\\n(1973). A bri\\\\nef survey of operant behavior. \\\\nRetrieved on 2nd January 2017, from The B.F. Skinner Foundation Web\\\\nsite: \\\\nhttp://www.bfskinner.org/BFSkinner/ SurveyOperant Behavior.html\\\\n \\\\nSmith, K.G., \\\\nand\\\\n \\\\nHitt, M.A. (2005). Great minds in management: the process of theory development. New Yo\\\\nrk, NY: Oxford University \\\\nPress.\\\\n \\\\nSorrentino, D.M. (2006). The seek mentoring program: An application of the goal\\\\n-\\\\nsetting theory. Journal of College Student Retention, \\\\n8(2): 241\\\\n-\\\\n250.\\\\n \\\\nStuart\\\\n-\\\\nKotze, R. (2009). Motivation Theory. Retrieved from \\\\nhttp://www.goal\\\\n-\\\\nsetting\\\\n-\\\\nguide.com/motivation\\\\n-\\\\ntheory.html\\\\n.\\\\n \\\\nTorraco, R.\\\\nJ. (1997). Theory building research methods. In R. A. Swanson \\\\nand\\\\n \\\\nE. F. Holton (Eds.), Human resource development \\\\nresearch handboo\\\\nk (pp. 114\\\\n\\\\n137). San Francisco: Berrett\\\\n-\\\\nKohler.\\\\n \\\\nWeegar, M.\\\\nA., \\\\nand\\\\n \\\\nPacis, D. (2012). A Comparison of Two Theories of Learning\\\\n--\\\\nBehaviorism and Constructivism as applied to Face\\\\n-\\\\nto\\\\n-\\\\nFace and Online Learning. In Proceedings E\\\\n-\\\\nLeader Conference, Manila.\\\\n \\\\nWerner, \\\\nJ.\\\\nM., \\\\nand\\\\n \\\\nDesimone, R.\\\\nL. (2009). Human resource development (5th.ed.) Mason: South\\\\n-\\\\nWestern Cengage Learning.\\\\n \\\\nWiard, H. \\\\n(1972). Why Manage Behavior? A Case for Positive Reinforcement. Human Resource Management (pre\\\\n-\\\\n1986), 11(2): 15\\\\n-\\\\n30.\\\\n \\\\nView publication statsView publication stats\"'"
      ]
     },
     "execution_count": 4,
     "metadata": {},
     "output_type": "execute_result"
    }
   ],
   "source": [
    "train_text"
   ]
  },
  {
   "cell_type": "code",
   "execution_count": 5,
   "metadata": {},
   "outputs": [],
   "source": [
    "import numpy as np\n",
    "import pandas as pd\n",
    "\n",
    "import gensim\n",
    "from gensim.utils import simple_preprocess\n",
    "from gensim.parsing.preprocessing import STOPWORDS\n",
    "\n",
    "from nltk.stem import WordNetLemmatizer, SnowballStemmer\n",
    "from nltk.tokenize import sent_tokenize"
   ]
  },
  {
   "cell_type": "code",
   "execution_count": 6,
   "metadata": {},
   "outputs": [],
   "source": [
    "stemmer = SnowballStemmer(\"english\")\n",
    "def lemma_stem(text):\n",
    "    return stemmer.stem(WordNetLemmatizer().lemmatize(text, pos='v'))"
   ]
  },
  {
   "cell_type": "code",
   "execution_count": 7,
   "metadata": {},
   "outputs": [],
   "source": [
    "def preprocess(text):\n",
    "    result=[]\n",
    "    for token in gensim.utils.simple_preprocess(text):\n",
    "        if token not in gensim.parsing.preprocessing.STOPWORDS and len(token)>3:\n",
    "            result.append(lemma_stem(token))\n",
    "    return result"
   ]
  },
  {
   "cell_type": "code",
   "execution_count": 8,
   "metadata": {},
   "outputs": [],
   "source": [
    "def processed_text(text):\n",
    "    final_text = []\n",
    "    sent = sent_tokenize(text)\n",
    "    for i in sent:\n",
    "        final_text.append(preprocess(i))\n",
    "\n",
    "    print('Length of Processed Document ::', len(final_text))\n",
    "    return final_text"
   ]
  },
  {
   "cell_type": "code",
   "execution_count": 9,
   "metadata": {},
   "outputs": [
    {
     "name": "stdout",
     "output_type": "stream",
     "text": [
      "Length of Processed Document :: 333\n"
     ]
    }
   ],
   "source": [
    "final_text = processed_text(train_text)"
   ]
  },
  {
   "cell_type": "code",
   "execution_count": 10,
   "metadata": {},
   "outputs": [
    {
     "name": "stdout",
     "output_type": "stream",
     "text": [
      "0 academ\n",
      "1 econom\n",
      "2 journal\n",
      "3 ndecemb\n",
      "4 studi\n",
      "5 abdul\n",
      "6 abidin\n",
      "7 abilit\n",
      "8 adopt\n",
      "9 applic\n",
      "10 author\n",
      "11 busi\n",
      "12 colleg\n",
      "13 employe\n",
      "14 evid\n",
      "15 gmail\n",
      "16 hing\n",
      "17 identifi\n",
      "18 ismail\n",
      "19 issn\n",
      "20 iyanda\n"
     ]
    }
   ],
   "source": [
    "dictionary = gensim.corpora.Dictionary(final_text)\n",
    "\n",
    "count=0\n",
    "for k,v in dictionary.iteritems():\n",
    "    print (k, v)\n",
    "    count +=1\n",
    "    if count >20:\n",
    "        break"
   ]
  },
  {
   "cell_type": "code",
   "execution_count": 11,
   "metadata": {},
   "outputs": [
    {
     "name": "stdout",
     "output_type": "stream",
     "text": [
      "Dictionary(15 unique tokens: ['employe', 'organiz', 'behavior', 'organ', 'enhanc']...)\n"
     ]
    }
   ],
   "source": [
    "#remove rare and repeatative words\n",
    "dictionary.filter_extremes(no_below=15,no_above=0.1,keep_n=100000)\n",
    "print(dictionary)"
   ]
  },
  {
   "cell_type": "code",
   "execution_count": 12,
   "metadata": {},
   "outputs": [
    {
     "data": {
      "text/plain": [
       "[(0, 1), (1, 2), (2, 2), (4, 1), (5, 2)]"
      ]
     },
     "execution_count": 12,
     "metadata": {},
     "output_type": "execute_result"
    }
   ],
   "source": [
    "bow_corpus = [dictionary.doc2bow(doc) for doc in final_text]\n",
    "bow_corpus[5]"
   ]
  },
  {
   "cell_type": "code",
   "execution_count": 13,
   "metadata": {},
   "outputs": [
    {
     "name": "stdout",
     "output_type": "stream",
     "text": [
      "Word 1 (\"organiz\") appears 1 time.\n",
      "Word 2 (\"behavior\") appears 1 time.\n",
      "Word 4 (\"enhanc\") appears 2 time.\n",
      "Word 6 (\"develop\") appears 1 time.\n",
      "Word 8 (\"reinforc\") appears 1 time.\n"
     ]
    }
   ],
   "source": [
    "document_num = 10\n",
    "bow_doc_x = bow_corpus[document_num]\n",
    "\n",
    "for i in range(len(bow_doc_x)):\n",
    "    print(\"Word {} (\\\"{}\\\") appears {} time.\".format(bow_doc_x[i][0], dictionary[bow_doc_x[i][0]], bow_doc_x[i][1]))"
   ]
  },
  {
   "cell_type": "code",
   "execution_count": 16,
   "metadata": {
    "collapsed": true
   },
   "outputs": [
    {
     "name": "stdout",
     "output_type": "stream",
     "text": [
      "Topic: 0 \n",
      "Words: 0.872*\"develop\" + 0.058*\"human\" + 0.013*\"process\" + 0.007*\"enhanc\" + 0.006*\"organiz\" + 0.005*\"inform\" + 0.005*\"nthe\" + 0.004*\"organ\" + 0.004*\"individu\" + 0.004*\"reinforc\"\n",
      "\n",
      "\n",
      "Topic: 1 \n",
      "Words: 0.916*\"reinforc\" + 0.011*\"perform\" + 0.010*\"goal\" + 0.007*\"employe\" + 0.006*\"enhanc\" + 0.006*\"process\" + 0.005*\"motiv\" + 0.005*\"develop\" + 0.005*\"inform\" + 0.005*\"human\"\n",
      "\n",
      "\n",
      "Topic: 2 \n",
      "Words: 0.472*\"employe\" + 0.276*\"individu\" + 0.135*\"perform\" + 0.093*\"enhanc\" + 0.004*\"goal\" + 0.003*\"motiv\" + 0.002*\"inform\" + 0.002*\"develop\" + 0.002*\"organ\" + 0.002*\"behavior\"\n",
      "\n",
      "\n",
      "Topic: 3 \n",
      "Words: 0.468*\"organiz\" + 0.141*\"organ\" + 0.138*\"employe\" + 0.126*\"perform\" + 0.064*\"behavior\" + 0.036*\"nthe\" + 0.007*\"motiv\" + 0.004*\"human\" + 0.003*\"reinforc\" + 0.002*\"process\"\n",
      "\n",
      "\n",
      "Topic: 4 \n",
      "Words: 0.569*\"process\" + 0.357*\"inform\" + 0.044*\"nthe\" + 0.005*\"organ\" + 0.003*\"behavior\" + 0.003*\"human\" + 0.002*\"reinforc\" + 0.002*\"employe\" + 0.002*\"enhanc\" + 0.002*\"perform\"\n",
      "\n",
      "\n",
      "Topic: 5 \n",
      "Words: 0.860*\"goal\" + 0.043*\"individu\" + 0.039*\"nthe\" + 0.028*\"motiv\" + 0.006*\"perform\" + 0.006*\"develop\" + 0.003*\"human\" + 0.003*\"behavior\" + 0.002*\"organ\" + 0.002*\"organiz\"\n",
      "\n",
      "\n",
      "Topic: 6 \n",
      "Words: 0.512*\"organ\" + 0.396*\"nthe\" + 0.027*\"enhanc\" + 0.019*\"human\" + 0.015*\"employe\" + 0.005*\"develop\" + 0.004*\"goal\" + 0.003*\"process\" + 0.003*\"behavior\" + 0.003*\"organiz\"\n",
      "\n",
      "\n",
      "Topic: 7 \n",
      "Words: 0.672*\"human\" + 0.283*\"perform\" + 0.004*\"enhanc\" + 0.004*\"organiz\" + 0.004*\"behavior\" + 0.004*\"organ\" + 0.003*\"process\" + 0.003*\"reinforc\" + 0.003*\"nthe\" + 0.003*\"motiv\"\n",
      "\n",
      "\n",
      "Topic: 8 \n",
      "Words: 0.848*\"behavior\" + 0.036*\"reinforc\" + 0.035*\"perform\" + 0.024*\"enhanc\" + 0.023*\"organ\" + 0.008*\"organiz\" + 0.008*\"employe\" + 0.003*\"human\" + 0.002*\"nthe\" + 0.002*\"individu\"\n",
      "\n",
      "\n",
      "Topic: 9 \n",
      "Words: 0.465*\"motiv\" + 0.241*\"enhanc\" + 0.131*\"goal\" + 0.128*\"perform\" + 0.009*\"organiz\" + 0.005*\"employe\" + 0.003*\"organ\" + 0.003*\"process\" + 0.002*\"behavior\" + 0.002*\"individu\"\n",
      "\n",
      "\n"
     ]
    }
   ],
   "source": [
    "lda_model =  gensim.models.LdaMulticore(bow_corpus, num_topics = 10, id2word = dictionary, passes = 10, workers = 2)\n",
    "\n",
    "for idx, topic in lda_model.print_topics():\n",
    "    print(\"Topic: {} \\nWords: {}\".format(idx, topic ))\n",
    "    print(\"\\n\")"
   ]
  },
  {
   "cell_type": "code",
   "execution_count": 18,
   "metadata": {},
   "outputs": [
    {
     "name": "stdout",
     "output_type": "stream",
     "text": [
      "Score: 0.10757310688495636\t Topic: 0.872*\"develop\" + 0.058*\"human\" + 0.013*\"process\" + 0.007*\"enhanc\" + 0.006*\"organiz\" + 0.005*\"inform\" + 0.005*\"nthe\" + 0.004*\"organ\" + 0.004*\"individu\" + 0.004*\"reinforc\" + 0.004*\"behavior\" + 0.004*\"goal\" + 0.004*\"perform\" + 0.004*\"employe\" + 0.004*\"motiv\"\n",
      "Score: 0.19678042829036713\t Topic: 0.472*\"employe\" + 0.276*\"individu\" + 0.135*\"perform\" + 0.093*\"enhanc\" + 0.004*\"goal\" + 0.003*\"motiv\" + 0.002*\"inform\" + 0.002*\"develop\" + 0.002*\"organ\" + 0.002*\"behavior\" + 0.002*\"organiz\" + 0.002*\"reinforc\" + 0.002*\"nthe\" + 0.002*\"process\" + 0.002*\"human\"\n",
      "Score: 0.11338149756193161\t Topic: 0.569*\"process\" + 0.357*\"inform\" + 0.044*\"nthe\" + 0.005*\"organ\" + 0.003*\"behavior\" + 0.003*\"human\" + 0.002*\"reinforc\" + 0.002*\"employe\" + 0.002*\"enhanc\" + 0.002*\"perform\" + 0.002*\"develop\" + 0.002*\"goal\" + 0.002*\"organiz\" + 0.002*\"motiv\" + 0.002*\"individu\"\n",
      "Score: 0.20373786985874176\t Topic: 0.512*\"organ\" + 0.396*\"nthe\" + 0.027*\"enhanc\" + 0.019*\"human\" + 0.015*\"employe\" + 0.005*\"develop\" + 0.004*\"goal\" + 0.003*\"process\" + 0.003*\"behavior\" + 0.003*\"organiz\" + 0.003*\"motiv\" + 0.003*\"perform\" + 0.003*\"reinforc\" + 0.003*\"inform\" + 0.003*\"individu\"\n",
      "Score: 0.12603777647018433\t Topic: 0.672*\"human\" + 0.283*\"perform\" + 0.004*\"enhanc\" + 0.004*\"organiz\" + 0.004*\"behavior\" + 0.004*\"organ\" + 0.003*\"process\" + 0.003*\"reinforc\" + 0.003*\"nthe\" + 0.003*\"motiv\" + 0.003*\"goal\" + 0.003*\"inform\" + 0.003*\"develop\" + 0.003*\"employe\" + 0.003*\"individu\"\n",
      "Score: 0.23248831927776337\t Topic: 0.465*\"motiv\" + 0.241*\"enhanc\" + 0.131*\"goal\" + 0.128*\"perform\" + 0.009*\"organiz\" + 0.005*\"employe\" + 0.003*\"organ\" + 0.003*\"process\" + 0.002*\"behavior\" + 0.002*\"individu\" + 0.002*\"nthe\" + 0.002*\"inform\" + 0.002*\"reinforc\" + 0.002*\"human\" + 0.002*\"develop\"\n"
     ]
    }
   ],
   "source": [
    "bow_vector = dictionary.doc2bow(preprocess(test_text))\n",
    "\n",
    "for index, score in sorted(lda_model[bow_vector]):\n",
    "    print(\"Score: {}\\t Topic: {}\".format(score, lda_model.print_topic(index, 30)))"
   ]
  },
  {
   "cell_type": "code",
   "execution_count": null,
   "metadata": {},
   "outputs": [],
   "source": []
  }
 ],
 "metadata": {
  "kernelspec": {
   "display_name": "Python 3",
   "language": "python",
   "name": "python3"
  },
  "language_info": {
   "codemirror_mode": {
    "name": "ipython",
    "version": 3
   },
   "file_extension": ".py",
   "mimetype": "text/x-python",
   "name": "python",
   "nbconvert_exporter": "python",
   "pygments_lexer": "ipython3",
   "version": "3.7.4"
  }
 },
 "nbformat": 4,
 "nbformat_minor": 2
}
