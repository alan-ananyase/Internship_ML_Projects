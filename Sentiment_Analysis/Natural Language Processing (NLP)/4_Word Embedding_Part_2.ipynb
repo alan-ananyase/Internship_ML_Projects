{
 "cells": [
  {
   "cell_type": "markdown",
   "metadata": {},
   "source": [
    "# Word Embedding  Contd...\n",
    "\n",
    "`Example - 1. Have a good day and 2. Have a great day`\n",
    "\n",
    "Let's consider one hot encoder vector for each of these words in V. Length of our one-hot encoded vector would be equal to the size of V (=5). We would have a vector of zeros except for the element at the index representing the corresponding word in the vocabulary. That particular element would be one. \n",
    "\n",
    "- Let's see how it looks\n",
    "\n",
    "Have = [1,0,0,0,0]; \n",
    "a=[0,1,0,0,0] ; \n",
    "good=[0,0,1,0,0] ; \n",
    "great=[0,0,0,1,0] ; \n",
    "day=[0,0,0,0,1] ( represents transpose)\n",
    "If we try to visualize these encodings, we can think of a 5 dimensional space, where each word occupies one of the dimensions and has nothing to do with the rest (no projection along the other dimensions). This means ‘good’ and ‘great’ are as different as ‘day’ and ‘have’, which is not true.\n",
    "Our objective is to have words with similar context occupy close spatial positions. Mathematically, the cosine of the angle between such vectors should be close to 1, i.e. angle close to 0.\n",
    "\n",
    "Since there are few shortcomings in CountVectorizer and TF-IDF vectorizer and those are solved by Word2Vec"
   ]
  },
  {
   "cell_type": "markdown",
   "metadata": {},
   "source": [
    "# Word2Vec"
   ]
  },
  {
   "cell_type": "code",
   "execution_count": 1,
   "metadata": {},
   "outputs": [],
   "source": [
    "# !pip install gensim\n",
    "# !pip install nltk"
   ]
  },
  {
   "cell_type": "code",
   "execution_count": 2,
   "metadata": {},
   "outputs": [],
   "source": [
    "import warnings\n",
    "warnings.filterwarnings('ignore')\n",
    "\n",
    "import nltk\n",
    "\n",
    "from gensim.models import Word2Vec\n",
    "from nltk.corpus import stopwords\n",
    "import matplotlib.pyplot as plt\n",
    "%matplotlib inline\n",
    "import re\n",
    "\n",
    "paragraph = \"\"\"I have three visions for India. In 3000 years of our history, people from all over \n",
    "               the world have come and invaded us, captured our lands, conquered our minds. \n",
    "               From Alexander onwards, the Greeks, the Turks, the Moguls, the Portuguese, the British,\n",
    "               the French, the Dutch, all of them came and looted us, took over what was ours. \n",
    "               Yet we have not done this to any other nation. We have not conquered anyone. \n",
    "               We have not grabbed their land, their culture, \n",
    "               their history and tried to enforce our way of life on them. \n",
    "               Why? Because we respect the freedom of others.That is why my \n",
    "               first vision is that of freedom. I believe that India got its first vision of \n",
    "               this in 1857, when we started the War of Independence. It is this freedom that\n",
    "               we must protect and nurture and build on. If we are not free, no one will respect us.\n",
    "               My second vision for India’s development. For fifty years we have been a developing nation.\n",
    "               It is time we see ourselves as a developed nation. We are among the top 5 nations of the world\n",
    "               in terms of GDP. We have a 10 percent growth rate in most areas. Our poverty levels are falling.\n",
    "               Our achievements are being globally recognised today. Yet we lack the self-confidence to\n",
    "               see ourselves as a developed nation, self-reliant and self-assured. Isn’t this incorrect?\n",
    "               I have a third vision. India must stand up to the world. Because I believe that unless India \n",
    "               stands up to the world, no one will respect us. Only strength respects strength. We must be \n",
    "               strong not only as a military power but also as an economic power. Both must go hand-in-hand. \n",
    "               My good fortune was to have worked with three great minds. Dr. Vikram Sarabhai of the Dept. of \n",
    "               space, Professor Satish Dhawan, who succeeded him and Dr. Brahm Prakash, father of nuclear material.\n",
    "               I was lucky to have worked with all three of them closely and consider this the great opportunity of my life.\n",
    "               I see four milestones in my career\"\"\""
   ]
  },
  {
   "cell_type": "code",
   "execution_count": 3,
   "metadata": {},
   "outputs": [],
   "source": [
    "# Preprocessing the data  (for more details on regular expression visit https://regexr.com/)\n",
    "text = re.sub(r'\\[[0-9]*\\]',' ',paragraph)\n",
    "text = re.sub(r'\\s+',' ',text)\n",
    "\n",
    "text = text.lower()\n",
    "\n",
    "text = re.sub(r'\\d',' ',text)\n",
    "text = re.sub(r'\\s+',' ',text)"
   ]
  },
  {
   "cell_type": "code",
   "execution_count": 4,
   "metadata": {},
   "outputs": [
    {
     "data": {
      "text/plain": [
       "['i have three visions for india.',\n",
       " 'in years of our history, people from all over the world have come and invaded us, captured our lands, conquered our minds.',\n",
       " 'from alexander onwards, the greeks, the turks, the moguls, the portuguese, the british, the french, the dutch, all of them came and looted us, took over what was ours.',\n",
       " 'yet we have not done this to any other nation.',\n",
       " 'we have not conquered anyone.',\n",
       " 'we have not grabbed their land, their culture, their history and tried to enforce our way of life on them.',\n",
       " 'why?',\n",
       " 'because we respect the freedom of others.that is why my first vision is that of freedom.',\n",
       " 'i believe that india got its first vision of this in , when we started the war of independence.',\n",
       " 'it is this freedom that we must protect and nurture and build on.',\n",
       " 'if we are not free, no one will respect us.',\n",
       " 'my second vision for india’s development.',\n",
       " 'for fifty years we have been a developing nation.',\n",
       " 'it is time we see ourselves as a developed nation.',\n",
       " 'we are among the top nations of the world in terms of gdp.',\n",
       " 'we have a percent growth rate in most areas.',\n",
       " 'our poverty levels are falling.',\n",
       " 'our achievements are being globally recognised today.',\n",
       " 'yet we lack the self-confidence to see ourselves as a developed nation, self-reliant and self-assured.',\n",
       " 'isn’t this incorrect?',\n",
       " 'i have a third vision.',\n",
       " 'india must stand up to the world.',\n",
       " 'because i believe that unless india stands up to the world, no one will respect us.',\n",
       " 'only strength respects strength.',\n",
       " 'we must be strong not only as a military power but also as an economic power.',\n",
       " 'both must go hand-in-hand.',\n",
       " 'my good fortune was to have worked with three great minds.',\n",
       " 'dr. vikram sarabhai of the dept.',\n",
       " 'of space, professor satish dhawan, who succeeded him and dr. brahm prakash, father of nuclear material.',\n",
       " 'i was lucky to have worked with all three of them closely and consider this the great opportunity of my life.',\n",
       " 'i see four milestones in my career']"
      ]
     },
     "execution_count": 4,
     "metadata": {},
     "output_type": "execute_result"
    }
   ],
   "source": [
    "# Preparing the dataset\n",
    "sentences = nltk.sent_tokenize(text)\n",
    "sentences"
   ]
  },
  {
   "cell_type": "code",
   "execution_count": 5,
   "metadata": {},
   "outputs": [],
   "source": [
    "sent_word = [nltk.word_tokenize(sentence) for sentence in sentences]"
   ]
  },
  {
   "cell_type": "code",
   "execution_count": 6,
   "metadata": {},
   "outputs": [],
   "source": [
    "#sent_word = [nltk.word_tokenize(sentence) for sentence in sentences]\n",
    "\n",
    "for i in range(len(sent_word)):\n",
    "    sent_word[i] = [word for word in sent_word[i]\n",
    "                    if word not in stopwords.words('english')]"
   ]
  },
  {
   "cell_type": "code",
   "execution_count": 7,
   "metadata": {
    "scrolled": true
   },
   "outputs": [],
   "source": [
    "# Training the Word2Vec model\n",
    "model = Word2Vec(sent_word, min_count=1)\n",
    "words = model.wv.vocab"
   ]
  },
  {
   "cell_type": "code",
   "execution_count": 8,
   "metadata": {},
   "outputs": [
    {
     "name": "stdout",
     "output_type": "stream",
     "text": [
      "[ 1.9365462e-04  3.0762113e-03 -4.9669584e-03 -3.7031486e-03\n",
      " -2.9506627e-03 -3.8516298e-03  1.3708312e-03  8.3569664e-04\n",
      "  4.3739411e-03 -4.7164289e-03  2.0314525e-03  5.4239511e-04\n",
      "  4.4257087e-03 -1.2331936e-03  8.5597154e-04 -2.5524914e-03\n",
      " -2.3722383e-03  3.6417444e-03  4.9468451e-03  4.9989037e-03\n",
      "  2.5519682e-03  4.4746585e-03  3.6700869e-03  1.2214445e-04\n",
      "  3.0521644e-04  2.5674661e-03 -4.2780582e-03  2.8730261e-03\n",
      " -3.0670634e-03  1.1843487e-03  4.6166205e-03  1.3075031e-03\n",
      "  2.3018236e-03  3.8410660e-03  1.9395737e-03 -3.6445225e-03\n",
      " -5.4558332e-04  4.6101256e-04  1.4500513e-03 -4.2935042e-03\n",
      " -3.9474631e-04 -9.8074088e-04  4.3074062e-04  9.8625943e-04\n",
      " -2.0546545e-03 -3.3747416e-04  1.4836851e-03 -2.6122935e-03\n",
      " -1.3791701e-03  2.6960862e-03 -1.8967625e-03 -2.8652912e-03\n",
      " -1.9636527e-03 -1.6054714e-03 -4.6308441e-03  2.5035357e-04\n",
      " -4.0043173e-03  9.5718703e-04  3.7300014e-03 -2.3139564e-03\n",
      " -4.3526716e-03 -2.0888441e-03  1.0532982e-03  3.0707575e-03\n",
      " -4.7397478e-03 -3.8055677e-03  4.0912940e-03  4.9004699e-03\n",
      "  3.1486833e-03 -1.7717910e-03 -2.3386637e-03  4.8726713e-03\n",
      " -1.4158583e-03 -4.7953534e-03 -7.7156682e-04 -1.3185617e-04\n",
      "  2.7080340e-04 -4.2280601e-03  2.0693105e-03 -2.7957461e-03\n",
      " -1.8963622e-03  3.2483365e-03  1.7782695e-03  3.3287860e-03\n",
      "  3.6399579e-04 -4.9397177e-03 -4.4641718e-03  4.0291985e-03\n",
      " -4.4649230e-05 -4.7626207e-03 -4.0111034e-03 -3.1663431e-03\n",
      "  2.3647356e-03 -2.4295845e-03 -5.0058179e-03  1.2007274e-03\n",
      "  4.1674619e-05  2.9468087e-03 -4.7857072e-03  3.8458132e-03]\n"
     ]
    }
   ],
   "source": [
    "# Test the word vectors\n",
    "vector = model.wv['freedom']\n",
    "print(vector)"
   ]
  },
  {
   "cell_type": "code",
   "execution_count": 9,
   "metadata": {},
   "outputs": [
    {
     "data": {
      "text/plain": [
       "[('yet', 0.24972069263458252),\n",
       " ('self-assured', 0.24028068780899048),\n",
       " ('?', 0.20365747809410095),\n",
       " ('economic', 0.19051982462406158),\n",
       " ('achievements', 0.18508858978748322)]"
      ]
     },
     "execution_count": 9,
     "metadata": {},
     "output_type": "execute_result"
    }
   ],
   "source": [
    "# Most similar words\n",
    "similar = model.wv.most_similar('power',topn=5)\n",
    "similar"
   ]
  },
  {
   "cell_type": "code",
   "execution_count": 10,
   "metadata": {},
   "outputs": [
    {
     "data": {
      "text/plain": [
       "-0.026108334"
      ]
     },
     "execution_count": 10,
     "metadata": {},
     "output_type": "execute_result"
    }
   ],
   "source": [
    "# You can also check words similarity and compare above\n",
    "model.wv.similarity(w1='great',w2='good')"
   ]
  },
  {
   "cell_type": "code",
   "execution_count": 11,
   "metadata": {},
   "outputs": [
    {
     "data": {
      "text/plain": [
       "1.0"
      ]
     },
     "execution_count": 11,
     "metadata": {},
     "output_type": "execute_result"
    }
   ],
   "source": [
    "# Same words similarity\n",
    "model.wv.similarity(w1='freedom',w2='freedom')"
   ]
  },
  {
   "cell_type": "code",
   "execution_count": 12,
   "metadata": {},
   "outputs": [
    {
     "data": {
      "text/plain": [
       "'war'"
      ]
     },
     "execution_count": 12,
     "metadata": {},
     "output_type": "execute_result"
    }
   ],
   "source": [
    "# filter on non similarity\n",
    "model.wv.doesnt_match([\"power\",\"war\",\"freedom\"])"
   ]
  },
  {
   "cell_type": "code",
   "execution_count": 13,
   "metadata": {},
   "outputs": [
    {
     "data": {
      "image/png": "[encoded data removed]",
      "text/plain": [
       "<Figure size 1080x360 with 1 Axes>"
      ]
     },
     "metadata": {
      "needs_background": "light"
     },
     "output_type": "display_data"
    }
   ],
   "source": [
    "from sklearn.manifold import TSNE\n",
    "\n",
    "vocab = ['closely','vision','power','military','world','india']\n",
    "def tsne_plot(model):\n",
    "    labels = []\n",
    "    wordvecs = []\n",
    "\n",
    "    for word in vocab:\n",
    "        wordvecs.append(model[word])\n",
    "        labels.append(word)\n",
    "    \n",
    "    tsne_model = TSNE(perplexity=3, n_components=3, init='pca', random_state=42)\n",
    "    coordinates = tsne_model.fit_transform(wordvecs)\n",
    "\n",
    "    x = []\n",
    "    y = []\n",
    "    for value in coordinates:\n",
    "        x.append(value[0])\n",
    "        y.append(value[1])\n",
    "        \n",
    "    plt.figure(figsize=(15,5)) \n",
    "    for i in range(len(x)):\n",
    "        plt.scatter(x[i],y[i])\n",
    "        plt.annotate(labels[i],\n",
    "                     xy=(x[i], y[i]),\n",
    "                     xytext=(2, 2),\n",
    "                     textcoords='offset points', ha='left')\n",
    "\n",
    "    plt.show()\n",
    "\n",
    "tsne_plot(model)"
   ]
  },
  {
   "cell_type": "markdown",
   "metadata": {},
   "source": [
    "# Another example"
   ]
  },
  {
   "attachments": {},
   "cell_type": "markdown",
   "metadata": {},
   "source": [
    "<img src='word2vec.jpg'>"
   ]
  }
 ],
 "metadata": {
  "kernelspec": {
   "display_name": "Python 3",
   "language": "python",
   "name": "python3"
  },
  "language_info": {
   "codemirror_mode": {
    "name": "ipython",
    "version": 3
   },
   "file_extension": ".py",
   "mimetype": "text/x-python",
   "name": "python",
   "nbconvert_exporter": "python",
   "pygments_lexer": "ipython3",
   "version": "3.7.4"
  }
 },
 "nbformat": 4,
 "nbformat_minor": 2
}
