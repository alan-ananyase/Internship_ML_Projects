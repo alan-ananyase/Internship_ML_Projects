{
 "cells": [
  {
   "cell_type": "code",
   "execution_count": 1,
   "metadata": {},
   "outputs": [],
   "source": [
    "# !pip install GetOldTweets3"
   ]
  },
  {
   "cell_type": "code",
   "execution_count": 2,
   "metadata": {},
   "outputs": [],
   "source": [
    "import string\n",
    "from collections import Counter\n",
    "import matplotlib.pyplot as plt"
   ]
  },
  {
   "cell_type": "code",
   "execution_count": 3,
   "metadata": {},
   "outputs": [],
   "source": [
    "def get_tweets():\n",
    "    import GetOldTweets3 as got   # library used to scrape data from twitter without any other tools\n",
    "    tweetCriteria = got.manager.TweetCriteria().setQuerySearch('OnePlusNord') \\\n",
    "        .setSince(\"2020-08-01\") \\\n",
    "        .setUntil(\"2020-08-08\") \\\n",
    "        .setMaxTweets(100)\n",
    "    \n",
    "    # Creation of list that contains all tweets\n",
    "    tweets = got.manager.TweetManager.getTweets(tweetCriteria)\n",
    "    \n",
    "    # Creating list of chosen tweet data\n",
    "    text_tweets = [[tweet.text] for tweet in tweets]\n",
    "    return text_tweets"
   ]
  },
  {
   "cell_type": "code",
   "execution_count": 4,
   "metadata": {},
   "outputs": [],
   "source": [
    "# reading text file\n",
    "text = \"\"\n",
    "text_tweets = get_tweets()\n",
    "\n",
    "length = len(text_tweets)\n",
    "\n",
    "for i in range(0, length):\n",
    "    text = text_tweets[i][0] + \" \" + text\n",
    "\n",
    "# converting to lowercase\n",
    "lower_case = text.lower()\n",
    "\n",
    "# Removing punctuations\n",
    "cleaned_text = lower_case.translate(str.maketrans('', '', string.punctuation))\n",
    "\n",
    "# splitting text into words\n",
    "tokenized_words = cleaned_text.split()"
   ]
  },
  {
   "cell_type": "code",
   "execution_count": 5,
   "metadata": {},
   "outputs": [
    {
     "data": {
      "text/plain": [
       "[['#OnePlus #Nord — купить на #AliExpress, сравнение цен, обзор, характеристики'],\n",
       " ['PLAY & Let The Fun Begin Like + RT + Click https://www.reddeergames.com Did You see it? '],\n",
       " ['Oneplus nord if budget is around 30k. If budget is not an issue then oneplus 8'],\n",
       " ['水没したスマホの代替として、独アマゾンに注文していた新スマホ、元の納期より突然2週間遅れとメール来てたのに、結局2日遅れの今日、届いた。 今日はほぼ1日、アプリの設定してた。 Oneplus NORDなかなか良いです。'],\n",
       " ['but hey, thats my experience, not everyone’s ofc. but at this point u can get a better deal, like the OnePlus Nord is very hard to beat price-wise.'],\n",
       " ['Received a update on #OnePlusNord '],\n",
       " ['OnePlus Nord tear-up: watch Carl Pei assemble the phone by hand '],\n",
       " [\"#Mi10ultra concept based on leaked images! I don't know how much real this images are but yeah.. The only design idea we have right now so.. It will work! . . #mi10 #mi10pro #GalaxyNote20Ultra #GalaxyZFold2 #galaxys20ultra #oneplus8t #oneplus8tpro #OnePlusNord #OnePlus8\"],\n",
       " ['OnePlus Nord tear-up: watch Carl Pei assemble the phone by hand http://dlvr.it/RdCzfh'],\n",
       " ['2020年8月6・7日の「OnePlus Nord」のワールドプレミアセールは今もまだやっています。 米国太平洋標準時でのセールなんですよね^^; 日本との時差は17時間なんで、あと10時間弱。たぶん。 なお、今、Aliexpressの販売ページみると「623 orders」ということです！ '],\n",
       " ['oneplus nord'],\n",
       " ['Hey @oneplus need more than 3200iso to go further in Astro-photography. 1st shot with milky way tonight, not bad. #OnePlusNord #shotononeplus'],\n",
       " ['Finally got my #OnePlusNord '],\n",
       " ['@OnePlus_IN @oneplus @OneplusNord_IN @_oneplusnord'],\n",
       " ['This week’s #Android headlines; the new #Galaxy #Note20, the #Google #Pixel4a reviews, Pixel takes on #OnePlusNord and #iPhoneSE, #OnePlus bundles #Facebook, #Huawei’s next setback, the death of #GooglePlayMusic, and more...'],\n",
       " [\"@OnePlus_Support sending sms has a delay of about 3 hours (recipient doesn't receive the message which is marked as sent on my phone), what is the fix for it? Oneplus nord.\"],\n",
       " ['RT @reggadaties #codepromo #Gearbest http://www.e-prospectus.net/CodePromoDetail.php?p=675473&amp;m=1056 oneplus nord 5g smartphone+65g 48mp quad camera 90hz screen amoled 32mp dual front camera '],\n",
       " ['OnePlus Nord is codenamed avicii and Nord for Nordic? Nah respect'],\n",
       " ['Once again @Dave2D delivers an amazing review of the pixel 4a and a perfect comparison with the iPhone SE and OnePlus Nord '],\n",
       " ['OnePlus Nord 5G-Unlocked Double SIM 5g+4G-Quad rear camera-Google Play-Blue - https://buyaussiestuff.com/oneplus-nord-5g-unlocked-double-sim-5g4g-quad-rear-camera-google-play-blue/'],\n",
       " [\"@oneplus there's still no oneplus nord option on your support &gt; software update page... Also when will the popup case vouchers arrive? Thanks\"],\n",
       " ['OnePlus Nordが伊Amazonで発売。税別約41,100円～ | そうすけブログ.com '],\n",
       " ['PLAY & Let The Fun Begin Like + RT + Click https://www.reddeergames.com Did You see it? '],\n",
       " ['OxygenOS 10.5.2 arrives for OnePlus Nord with July security patch – Post Daily '],\n",
       " ['@Airtel_Presence will @airtelindia support VoLTE on recently released OnePlus Nord ?'],\n",
       " ['Aber schaue noch, ob irgendwas zusätzlich noch auf dem Markt kommen wird. Dann werden Vergleiche gezogen und entscheide mich dann. Aber bis jetzt hat mich das OnePlus Nord sehr überzeugt'],\n",
       " ['Ah nice, freshes Handy. Ich hole mir wahrscheinlich das OnePlus Nord'],\n",
       " ['Servus @AmazonHelp, dass das bestellte Handy statt wie beworben am 05. August im \"worst case\" zwei Monate später kommen soll, ist auch eher unschön. Woran liegts denn? #oneplusnord '],\n",
       " ['OnePlus Nord Review: the new category leader '],\n",
       " ['OnePlus Nordが西Amazonで発売。税別約41,400円～ | そうすけブログ.com https://sosukeblog.com/2020/08/08/71368/'],\n",
       " [\"@FnacVousAide Bonsoir, Ça serai pas mal de prévenir le client d'un potentiel retard pour la livraison (oneplus nord). Un article pré-commandé avant la date de sortie et toujours RIEN. La FNAC plus jamais, moi qui hésitais avec Amazon...\"],\n",
       " [\"You could. The OnePlus Nord at $450 or the pixel 4a at $350. The SE isn't better optimized than a flagship phone. It is still running the newest chip. It's just doesn't have the better screen, battery life, build quality, or camera you would get on the 11 pro.\"],\n",
       " ['@tescomobile would really love if you guys did the oneplus nord'],\n",
       " ['Quieres ganar un Oneplus Nord de 128 GB '],\n",
       " [\"@oneplus Greetings, How can I order oneplus nord in KSA , do you have an official store here . Because I can't find a way to order it online.\"],\n",
       " ['#OnePlusNord fuck off with your facebook bloatware.'],\n",
       " ['Can you help a fan out @Dave2D ? I am currently a student living in India and am looking to buy a new phone. I am confused between Oneplus Nord and Pixel 4A. Whatever i buy, i have to make it last 3 years. Can you help a fan out? P.S:- Love your videos!'],\n",
       " ['Can you help a fan out @Dave2D ? I am currently a student living in India and am looking to buy a new phone. I am confused between Oneplus Nord and Pixel 4A. Whatever i buy, i have to make it last 3 years. Can you help a fan out? P.S:- Love your videos!'],\n",
       " ['OnePlus Nord Hindi review. Get to know some unknown facts. Watch now '],\n",
       " ['@katebevan Have you been given a OnePlus Nord to play with/review? Took delivery of mine today, seriously impressed with the camera.'],\n",
       " ['The #Oneplus Nord'],\n",
       " ['I definitely agree that for the money it’s great but personally I’d save a bit longer and get a oneplus nord'],\n",
       " ['I love my OnePlus Nord very easy to set up and use and loads of fantastic features and not much bloatware and great battery life'],\n",
       " ['PLAY & Let The Fun Begin Like + RT + Click https://www.reddeergames.com Did You see it? '],\n",
       " ['I am a techy person, us hisab se oneplus nord lena worth hoga ya fir nehi? agar nehi hai to kaunsi lena fayedemand rahega? #AskArun P.S. - I prefer clean OS'],\n",
       " [\"Iphone SE has good performance and good single camera. That's it. Old-fashion design, low battery life, low resolution, 60 Hz, no wide angle rear and selfie camera. Comparatively, Oneplus Nord beats it in every way.\"],\n",
       " ['Ska jag vara helt ärlig så hade jag nog också köpt en OnePlus Nord idag, sjukt mycket mobil för pengarna. Är ju sjukt nöjd med min 8 pro, men plånboken får lida :D'],\n",
       " ['Couple of shots from the OnePlus Nord. #ShotOnOnePlus #OnePlusNord #OnePlusAmbassador'],\n",
       " ['OnePlus Nord hands-on review - Ta-Demo Test Site http://tademo.trueanthem.com/evergreen/oneplus-nord-hands-on-review/?taid=5f2db9f46639040001f71bd0&amp;utm_campaign=trueAnthem%3A+Trending+Content&amp;utm_medium=trueAnthem&amp;utm_source=twitter'],\n",
       " [' ¡OFERTÓN LANZAMIENTO MUNDIAL! Nuevo OnePlus Nord con conectividad 5G VER OFERTAS: https://bit.ly/2OPlYpn Precio OFERTA: 318€ Te presentamos un nuevo dispositivo con tecnología 5G de alta velocidad. ¡Y ahora lo tienes por tiempo limitado al precio más bajo!'],\n",
       " [\"Loving my #OnePlusNord. A few shots with it today at city centre and I'm super impressed \"],\n",
       " [\"J'ai un soucis avec le #OnePlusNord l'adaptation automatique de la luminosité se désactive sans cesse @oneplus_fr @OnePlus_SAV\"],\n",
       " ['Hey @ZacksJerryRig did you already pick winner for Oneplus Nord ? If not plz pick me cuz I need one. Thanks and much love '],\n",
       " ['@OneplusNord_IN @amazonIN this is unfair people are getting their product on same day or day after ordered.. and I did pre booking still not shipped yet.. #unfair_oneplus.'],\n",
       " ['@fromsophie Waiting for your article on #OnePlusNord'],\n",
       " ['Oneplus nord is currently not supporting AR feature,but they hold AR event @PeteLau'],\n",
       " ['When did you ordered @OneplusNord_IN seriously I did pre book on 29 July still not shipped ..this is unfair ...'],\n",
       " [\"@FnacVousAide bonjour, Commande de oneplus nord avec expédition prévue aujourd'hui, toujours en attente, quel délai estimez-vous ? Cordialement \"],\n",
       " ['OnePlus Nord 5G (Gray Onyx, 12GB RAM, 256GB Storage) https://ift.tt/31u8h53'],\n",
       " [\"Prise en main du smartphone #OnePlus Nord à l'#aveugle https://www.edencast.fr/oneplus-nord-premier-contact/ #Google #Android #a11y\"],\n",
       " ['I really hope it to be in 20-22k range but going by #google pricing blunder it will certainly be above 25k and might end up losing to #OnePlusNord'],\n",
       " ['U can buy a new oneplus nord at this price...'],\n",
       " [' [SIGUE LOS MÍNIMOS HISTÓRICOS] Oneplus NORD 5G 8GB/128GB y 12GB/256GB Global por 318€ #Aliexpress Nuevo \"pepinazo\" recién salido del horno... OnePlus Nord. Cuenta con un pantallón Amoled 6.44\" FHD y de 90hz, el potente Snapdra ... https://www.cholloschina.com/2020/08/07/oneplus-nord-5g-8gb-128gb-y-12gb-256gb-global-por-318-3/ #chollo'],\n",
       " [\"https://iphonesoft.fr/2020/08/07/iphone-2020-plus-rapide-oneplus-nord Comparatif : l'iPhone SE 2020 est plus rapide que le OnePlus Nord #iSoft\"],\n",
       " ['PLAY & Let The Fun Begin Like + RT + Click https://www.reddeergames.com Did You see it? '],\n",
       " ['Worst customer service support from one plus'],\n",
       " ['How to remove Facebook bloatware from the OnePlus 8 series and OnePlus Nord - '],\n",
       " ['Oneplus Nord 5G 10% Instant Discount Using SBI Cards. '],\n",
       " ['New post: Best Accessories for OnePlus Nord in 2020 '],\n",
       " ['OnePlus Nord 5G phone is OP.. #AmazonSpecialsOnePlusNord5G'],\n",
       " ['Can you help a fan out @TechSpurtVideo ? I am currently a student living in India and am looking to buy a new phone. I am confused between Oneplus Nord and Pixel 4A. Whatever i buy, i have to make it last 3 years. Can you help a fan out? P.S:- Love your videos!'],\n",
       " ['OnePlus Nord: see how to assemble the smartphone piece by piece (video) '],\n",
       " ['OnePlus Nord 5G In Stock Now #OnePlus #OnePlusNord Link:- https://amzn.to/3kpTz7Z'],\n",
       " ['One Plus Nord, Know everything before Placing Order https://www.the-next-tech.com/?p=24734 #gadgets #smartphone #mobile #oneplus #oneplusnord #phone #tech'],\n",
       " ['OnePlus Nord in Stock. Buy With SBI Credit Card. Link : https://amzn.to/3kn1LFM'],\n",
       " ['@amazonIN @OnePlus_IN I ordered OnePlus nord on 28th July, and today it’s August 8 yet the device has not been dispatched?? Why did u guys take the order when u can’t fulfill it!'],\n",
       " ['Can you help a fan out @Mrwhosetheboss ? I am currently a student living in India and am looking to buy a new phone. I am confused between Oneplus Nord and Pixel 4A. Whatever i buy, i have to make it last 3 years. Can you help a fan out? P.S:- Love your videos!'],\n",
       " ['Still In Stock : OnePlus Nord 12+256 Black : https://amzn.to/30BTZjr Blue : https://amzn.to/3a8g7VK 10% off with sbi'],\n",
       " ['Can you help a fan out @theMrMobile ? I am currently a student living in India and am looking to buy a new phone. I am confused between Oneplus Nord and Pixel 4A. Whatever i buy, i have to make it last 3 years. Can you help a fan out? P.S:- Love your videos!'],\n",
       " ['i am also facing the same issue,even i dont play games and battery drains constantly.'],\n",
       " ['OnePlus All Mobiles in Stock [OnePlus Nord, OnePlus 7T, OnePlus 8 5G] Bring Home, New Beast, The Perfect All-rounder Smartphone!! Link : https://amzn.to/2DMMr4p Flat Rs.1500 off on All with SBI CC'],\n",
       " ['Battery stats today (light theme) #OnePlusNord '],\n",
       " ['OnePlus Nord*'],\n",
       " [\"Bought my first New New phone in about 10 years. I'm in love with it. Got the #OnePlus #Nord and it just...works. I've not even tried the cameras yet, @Rileythedog is too hot to pose today. @OnePlus_UK\"],\n",
       " ['#OnePlusNord. Detailed Specs Here: https://buff.ly/31Jz3Xt #OnePlus #Smartphones #Android'],\n",
       " ['PLAY & Let The Fun Begin Like + RT + Click https://www.reddeergames.com Did You see it? '],\n",
       " [\"You don't need to connect a speaker to Nord as it's pretty loud and crystal clear #mynord Clicked with #OnePlusNord @getpeid @OnePlus_IN @oneplus\"],\n",
       " ['Oneplus nord also gives same quality of pics '],\n",
       " ['Hey @amazonIN, the specs that fit perfectly with the newly-launched beast Oneplus NORD from @OnePlus_IN are: - 48MP+8MP+5MP+2MP quad rear camera. - 6.44-inch 90Hz Fluid Amoled display. - 4115 mAH lithium-ion battery. #AmazonPrimeDay #AmazonSpecialsOnePlusNord5G'],\n",
       " ['Trying something different and difficult for my OnePlus Nord review. Hope you guys like it for the effort if not the quality of the result. Thank you all!'],\n",
       " ['Skaffade en oneplus nord bara för att xiaomi var slut hos Telenor. Aldrig haft en 90hz display förut men ärligt märker jag ingen direkt skillnad mot 60hz som jag hade i min förra telefon.'],\n",
       " ['#OnePlusNord. '],\n",
       " ['OnePlus Nord Ek Aur Fraud - Ab #OnePlus Store Par #OnePlusNord Customer ... https://youtu.be/qzcYi8iOl84 via @YouTube @nikhilchawla @TheUnbiasedBlog'],\n",
       " ['Yep.. Loved the #OneplusBuds.. Bought it today... All I now wish is to get #OneplusNord as #TheChosenONE Please make it happen boss!! '],\n",
       " ['#OnePlus Nord #Android'],\n",
       " [\"Why I'm having this problem in slow motion video is this a problem or .. @OnePlus_IN @oneplus @_oneplusnord \"],\n",
       " ['The Oneplus nord also has an IPS display and plastic body.'],\n",
       " ['The Oneplus nord also has an IPS display and plastic body.'],\n",
       " ['The Oneplus nord also has an IPS display and plastic body.'],\n",
       " ['Realme X2pro or Oneplus Nord !! Alternative- Redmi k20 pro.']]"
      ]
     },
     "execution_count": 5,
     "metadata": {},
     "output_type": "execute_result"
    }
   ],
   "source": [
    "# Print texts\n",
    "text_tweets"
   ]
  },
  {
   "cell_type": "code",
   "execution_count": 6,
   "metadata": {},
   "outputs": [],
   "source": [
    "stop_words = [\"i\", \"me\", \"my\", \"myself\", \"we\", \"our\", \"ours\", \"ourselves\", \"you\", \"your\", \"yours\", \"yourself\",\n",
    "              \"yourselves\", \"he\", \"him\", \"his\", \"himself\", \"she\", \"her\", \"hers\", \"herself\", \"it\", \"its\", \"itself\",\n",
    "              \"they\", \"them\", \"their\", \"theirs\", \"themselves\", \"what\", \"which\", \"who\", \"whom\", \"this\", \"that\", \"these\",\n",
    "              \"those\", \"am\", \"is\", \"are\", \"was\", \"were\", \"be\", \"been\", \"being\", \"have\", \"has\", \"had\", \"having\", \"do\",\n",
    "              \"does\", \"did\", \"doing\", \"a\", \"an\", \"the\", \"and\", \"but\", \"if\", \"or\", \"because\", \"as\", \"until\", \"while\",\n",
    "              \"of\", \"at\", \"by\", \"for\", \"with\", \"about\", \"against\", \"between\", \"into\", \"through\", \"during\", \"before\",\n",
    "              \"after\", \"above\", \"below\", \"to\", \"from\", \"up\", \"down\", \"in\", \"out\", \"on\", \"off\", \"over\", \"under\", \"again\",\n",
    "              \"further\", \"then\", \"once\", \"here\", \"there\", \"when\", \"where\", \"why\", \"how\", \"all\", \"any\", \"both\", \"each\",\n",
    "              \"few\", \"more\", \"most\", \"other\", \"some\", \"such\", \"no\", \"nor\", \"not\", \"only\", \"own\", \"same\", \"so\", \"than\",\n",
    "              \"too\", \"very\", \"s\", \"t\", \"can\", \"will\", \"just\", \"don\", \"should\", \"now\"]\n",
    "\n",
    "# Removing stop words from the tokenized words list\n",
    "final_words = [word for word in tokenized_words if word not in stop_words]"
   ]
  },
  {
   "cell_type": "code",
   "execution_count": 7,
   "metadata": {},
   "outputs": [
    {
     "name": "stdout",
     "output_type": "stream",
     "text": [
      "Counter({' sad': 4, ' attached': 2, ' surprise': 1, ' ecstatic': 1, ' free': 1, ' happy': 1, ' loved': 1})\n"
     ]
    }
   ],
   "source": [
    "# Get emotions text\n",
    "emotion_list = []\n",
    "with open('emotions.txt', 'r') as file:\n",
    "    for line in file:\n",
    "        clear_line = line.replace('\\n', '').replace(',', '').replace(\"'\", '').strip()\n",
    "        word, emotion = clear_line.split(':')\n",
    "        if word in final_words:\n",
    "            emotion_list.append(emotion)\n",
    "\n",
    "w = Counter(emotion_list)\n",
    "print(w)"
   ]
  },
  {
   "cell_type": "code",
   "execution_count": 8,
   "metadata": {},
   "outputs": [
    {
     "data": {
      "image/png": "[encoded data removed]",
      "text/plain": [
       "<Figure size 432x288 with 1 Axes>"
      ]
     },
     "metadata": {
      "needs_background": "light"
     },
     "output_type": "display_data"
    }
   ],
   "source": [
    "fig, ax1 = plt.subplots()\n",
    "ax1.bar(w.keys(), w.values())\n",
    "fig.autofmt_xdate()\n",
    "# plt.savefig('graph.png')\n",
    "plt.show()"
   ]
  }
 ],
 "metadata": {
  "kernelspec": {
   "display_name": "Python 3",
   "language": "python",
   "name": "python3"
  },
  "language_info": {
   "codemirror_mode": {
    "name": "ipython",
    "version": 3
   },
   "file_extension": ".py",
   "mimetype": "text/x-python",
   "name": "python",
   "nbconvert_exporter": "python",
   "pygments_lexer": "ipython3",
   "version": "3.7.4"
  }
 },
 "nbformat": 4,
 "nbformat_minor": 2
}
