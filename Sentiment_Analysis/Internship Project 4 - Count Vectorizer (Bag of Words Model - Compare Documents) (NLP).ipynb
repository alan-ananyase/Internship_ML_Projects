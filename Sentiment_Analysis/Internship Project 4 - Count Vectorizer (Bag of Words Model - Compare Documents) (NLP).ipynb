{
 "cells": [
  {
   "cell_type": "code",
   "execution_count": 1,
   "metadata": {},
   "outputs": [],
   "source": [
    "import string\n",
    "import re\n",
    "import pandas as pd\n",
    "\n",
    "from sklearn.feature_extraction.text import CountVectorizer\n",
    "\n",
    "from nltk.corpus import stopwords\n",
    "from nltk.tokenize import word_tokenize"
   ]
  },
  {
   "cell_type": "code",
   "execution_count": 2,
   "metadata": {},
   "outputs": [
    {
     "name": "stdout",
     "output_type": "stream",
     "text": [
      "Total Number of Words :: 53766\n"
     ]
    }
   ],
   "source": [
    "# text 1 : Introduction to Machine Leaning by Nils J. Nilsson\n",
    "text1 = open('introduction_to_machine_leaning_Nils_J_Nilsson.txt', encoding=\"utf-8\").read()\n",
    "lower_text1 = text1.lower()\n",
    "cleaned_text1 = lower_text1.translate(str.maketrans(\"\", \"\", string.punctuation))\n",
    "tokenize_text1 = word_tokenize(cleaned_text1, \"english\")\n",
    "\n",
    "strings1 = []\n",
    "for word in tokenize_text1:\n",
    "    word = \"\".join(re.split(\"[^a-zA-Z]\", word))\n",
    "    strings1.append(word)\n",
    "print(\"Total Number of Words ::\", len(strings1))\n",
    "\n",
    "final_words1 = [\" \".join(str(word) for word in strings1)]"
   ]
  },
  {
   "cell_type": "code",
   "execution_count": 3,
   "metadata": {},
   "outputs": [
    {
     "name": "stdout",
     "output_type": "stream",
     "text": [
      "Length of BoW :: 4318\n"
     ]
    }
   ],
   "source": [
    "stop_words = stopwords.words(\"english\")\n",
    "vect1 = CountVectorizer(stop_words=stop_words)\n",
    "vector1 = vect1.fit_transform(final_words1)\n",
    "print(\"Length of BoW ::\", len(vect1.get_feature_names()))"
   ]
  },
  {
   "cell_type": "code",
   "execution_count": 4,
   "metadata": {},
   "outputs": [
    {
     "data": {
      "text/html": [
       "<div>\n",
       "<style scoped>\n",
       "    .dataframe tbody tr th:only-of-type {\n",
       "        vertical-align: middle;\n",
       "    }\n",
       "\n",
       "    .dataframe tbody tr th {\n",
       "        vertical-align: top;\n",
       "    }\n",
       "\n",
       "    .dataframe thead th {\n",
       "        text-align: right;\n",
       "    }\n",
       "</style>\n",
       "<table border=\"1\" class=\"dataframe\">\n",
       "  <thead>\n",
       "    <tr style=\"text-align: right;\">\n",
       "      <th></th>\n",
       "      <th>learning</th>\n",
       "      <th>set</th>\n",
       "      <th>patterns</th>\n",
       "      <th>training</th>\n",
       "      <th>value</th>\n",
       "      <th>function</th>\n",
       "      <th>one</th>\n",
       "      <th>functions</th>\n",
       "      <th>example</th>\n",
       "      <th>decision</th>\n",
       "      <th>values</th>\n",
       "      <th>weight</th>\n",
       "      <th>vector</th>\n",
       "      <th>pattern</th>\n",
       "      <th>chapter</th>\n",
       "    </tr>\n",
       "  </thead>\n",
       "  <tbody>\n",
       "    <tr>\n",
       "      <td>count</td>\n",
       "      <td>408</td>\n",
       "      <td>262</td>\n",
       "      <td>213</td>\n",
       "      <td>212</td>\n",
       "      <td>189</td>\n",
       "      <td>187</td>\n",
       "      <td>166</td>\n",
       "      <td>163</td>\n",
       "      <td>152</td>\n",
       "      <td>147</td>\n",
       "      <td>146</td>\n",
       "      <td>136</td>\n",
       "      <td>128</td>\n",
       "      <td>119</td>\n",
       "      <td>115</td>\n",
       "    </tr>\n",
       "  </tbody>\n",
       "</table>\n",
       "</div>"
      ],
      "text/plain": [
       "       learning  set  patterns  training  value  function  one  functions  \\\n",
       "count       408  262       213       212    189       187  166        163   \n",
       "\n",
       "       example  decision  values  weight  vector  pattern  chapter  \n",
       "count      152       147     146     136     128      119      115  "
      ]
     },
     "execution_count": 4,
     "metadata": {},
     "output_type": "execute_result"
    }
   ],
   "source": [
    "pd.DataFrame(vector1.toarray(), columns=vect1.get_feature_names(), index=[\"count\"]).T.sort_values(by='count', ascending=False).head(15).T"
   ]
  },
  {
   "cell_type": "code",
   "execution_count": 5,
   "metadata": {},
   "outputs": [
    {
     "name": "stdout",
     "output_type": "stream",
     "text": [
      "Total Number of Words :: 158011\n"
     ]
    }
   ],
   "source": [
    "# text 2 : Understanding Machine Learnng by Shai Shalev-Shwartz and Shai Ben-David\n",
    "text2 = open('understanding machine learnng_Shai Shalev-Shwartz and Shai Ben-David.txt', encoding=\"utf-8\").read()\n",
    "lower_text2 = text2.lower()\n",
    "cleaned_text2 = lower_text2.translate(str.maketrans(\"\", \"\", string.punctuation))\n",
    "tokenize_text2 = word_tokenize(cleaned_text2, \"english\")\n",
    "\n",
    "strings2 = []\n",
    "for word in tokenize_text2:\n",
    "    word = \"\".join(re.split(\"[^a-zA-Z]\", word))\n",
    "    strings2.append(word)\n",
    "print(\"Total Number of Words ::\", len(strings2))\n",
    "\n",
    "final_words2 = [\" \".join(str(word) for word in strings2)]"
   ]
  },
  {
   "cell_type": "code",
   "execution_count": 6,
   "metadata": {},
   "outputs": [
    {
     "name": "stdout",
     "output_type": "stream",
     "text": [
      "Length of BoW :: 6414\n"
     ]
    }
   ],
   "source": [
    "stop_words = stopwords.words(\"english\")\n",
    "vect2 = CountVectorizer(stop_words=stop_words)\n",
    "vector2 = vect2.fit_transform(final_words2)\n",
    "print(\"Length of BoW ::\", len(vect2.get_feature_names()))"
   ]
  },
  {
   "cell_type": "code",
   "execution_count": 7,
   "metadata": {},
   "outputs": [
    {
     "data": {
      "text/html": [
       "<div>\n",
       "<style scoped>\n",
       "    .dataframe tbody tr th:only-of-type {\n",
       "        vertical-align: middle;\n",
       "    }\n",
       "\n",
       "    .dataframe tbody tr th {\n",
       "        vertical-align: top;\n",
       "    }\n",
       "\n",
       "    .dataframe thead th {\n",
       "        text-align: right;\n",
       "    }\n",
       "</style>\n",
       "<table border=\"1\" class=\"dataframe\">\n",
       "  <thead>\n",
       "    <tr style=\"text-align: right;\">\n",
       "      <th></th>\n",
       "      <th>learning</th>\n",
       "      <th>set</th>\n",
       "      <th>let</th>\n",
       "      <th>function</th>\n",
       "      <th>class</th>\n",
       "      <th>hypothesis</th>\n",
       "      <th>algorithm</th>\n",
       "      <th>de</th>\n",
       "      <th>loss</th>\n",
       "      <th>problem</th>\n",
       "      <th>every</th>\n",
       "      <th>training</th>\n",
       "      <th>theorem</th>\n",
       "      <th>error</th>\n",
       "      <th>using</th>\n",
       "    </tr>\n",
       "  </thead>\n",
       "  <tbody>\n",
       "    <tr>\n",
       "      <td>count</td>\n",
       "      <td>996</td>\n",
       "      <td>735</td>\n",
       "      <td>724</td>\n",
       "      <td>713</td>\n",
       "      <td>601</td>\n",
       "      <td>589</td>\n",
       "      <td>539</td>\n",
       "      <td>523</td>\n",
       "      <td>417</td>\n",
       "      <td>356</td>\n",
       "      <td>348</td>\n",
       "      <td>341</td>\n",
       "      <td>333</td>\n",
       "      <td>323</td>\n",
       "      <td>322</td>\n",
       "    </tr>\n",
       "  </tbody>\n",
       "</table>\n",
       "</div>"
      ],
      "text/plain": [
       "       learning  set  let  function  class  hypothesis  algorithm   de  loss  \\\n",
       "count       996  735  724       713    601         589        539  523   417   \n",
       "\n",
       "       problem  every  training  theorem  error  using  \n",
       "count      356    348       341      333    323    322  "
      ]
     },
     "execution_count": 7,
     "metadata": {},
     "output_type": "execute_result"
    }
   ],
   "source": [
    "pd.DataFrame(vector2.toarray(), columns=vect2.get_feature_names(), index=[\"count\"]).T.sort_values(by='count', ascending=False).head(15).T"
   ]
  },
  {
   "cell_type": "markdown",
   "metadata": {},
   "source": [
    "### Comparing both documents"
   ]
  },
  {
   "cell_type": "code",
   "execution_count": 8,
   "metadata": {},
   "outputs": [
    {
     "data": {
      "text/html": [
       "<div>\n",
       "<style scoped>\n",
       "    .dataframe tbody tr th:only-of-type {\n",
       "        vertical-align: middle;\n",
       "    }\n",
       "\n",
       "    .dataframe tbody tr th {\n",
       "        vertical-align: top;\n",
       "    }\n",
       "\n",
       "    .dataframe thead th {\n",
       "        text-align: right;\n",
       "    }\n",
       "</style>\n",
       "<table border=\"1\" class=\"dataframe\">\n",
       "  <thead>\n",
       "    <tr style=\"text-align: right;\">\n",
       "      <th></th>\n",
       "      <th>learning</th>\n",
       "      <th>set</th>\n",
       "      <th>let</th>\n",
       "      <th>function</th>\n",
       "      <th>class</th>\n",
       "      <th>hypothesis</th>\n",
       "      <th>algorithm</th>\n",
       "      <th>de</th>\n",
       "      <th>loss</th>\n",
       "      <th>problem</th>\n",
       "      <th>every</th>\n",
       "      <th>training</th>\n",
       "      <th>theorem</th>\n",
       "      <th>error</th>\n",
       "      <th>using</th>\n",
       "    </tr>\n",
       "  </thead>\n",
       "  <tbody>\n",
       "    <tr>\n",
       "      <td>Word Count</td>\n",
       "      <td>996</td>\n",
       "      <td>735</td>\n",
       "      <td>724</td>\n",
       "      <td>713</td>\n",
       "      <td>601</td>\n",
       "      <td>589</td>\n",
       "      <td>539</td>\n",
       "      <td>523</td>\n",
       "      <td>417</td>\n",
       "      <td>356</td>\n",
       "      <td>348</td>\n",
       "      <td>341</td>\n",
       "      <td>333</td>\n",
       "      <td>323</td>\n",
       "      <td>322</td>\n",
       "    </tr>\n",
       "  </tbody>\n",
       "</table>\n",
       "</div>"
      ],
      "text/plain": [
       "            learning  set  let  function  class  hypothesis  algorithm   de  \\\n",
       "Word Count       996  735  724       713    601         589        539  523   \n",
       "\n",
       "            loss  problem  every  training  theorem  error  using  \n",
       "Word Count   417      356    348       341      333    323    322  "
      ]
     },
     "execution_count": 8,
     "metadata": {},
     "output_type": "execute_result"
    }
   ],
   "source": [
    "vect = CountVectorizer(stop_words=stop_words)\n",
    "vect.fit(final_words1)\n",
    "vector = vect.transform(final_words2)\n",
    "# print(vector.toarray())\n",
    "pd.DataFrame(vector.toarray(), columns=vect.get_feature_names(), index=['Word Count']).T.sort_values(by='Word Count', ascending=False).head(15).T"
   ]
  },
  {
   "cell_type": "code",
   "execution_count": 9,
   "metadata": {},
   "outputs": [
    {
     "data": {
      "text/html": [
       "<div>\n",
       "<style scoped>\n",
       "    .dataframe tbody tr th:only-of-type {\n",
       "        vertical-align: middle;\n",
       "    }\n",
       "\n",
       "    .dataframe tbody tr th {\n",
       "        vertical-align: top;\n",
       "    }\n",
       "\n",
       "    .dataframe thead th {\n",
       "        text-align: right;\n",
       "    }\n",
       "</style>\n",
       "<table border=\"1\" class=\"dataframe\">\n",
       "  <thead>\n",
       "    <tr style=\"text-align: right;\">\n",
       "      <th></th>\n",
       "      <th>Word Count</th>\n",
       "    </tr>\n",
       "  </thead>\n",
       "  <tbody>\n",
       "    <tr>\n",
       "      <td>learning</td>\n",
       "      <td>996</td>\n",
       "    </tr>\n",
       "    <tr>\n",
       "      <td>set</td>\n",
       "      <td>735</td>\n",
       "    </tr>\n",
       "    <tr>\n",
       "      <td>let</td>\n",
       "      <td>724</td>\n",
       "    </tr>\n",
       "    <tr>\n",
       "      <td>function</td>\n",
       "      <td>713</td>\n",
       "    </tr>\n",
       "    <tr>\n",
       "      <td>class</td>\n",
       "      <td>601</td>\n",
       "    </tr>\n",
       "  </tbody>\n",
       "</table>\n",
       "</div>"
      ],
      "text/plain": [
       "          Word Count\n",
       "learning         996\n",
       "set              735\n",
       "let              724\n",
       "function         713\n",
       "class            601"
      ]
     },
     "execution_count": 9,
     "metadata": {},
     "output_type": "execute_result"
    }
   ],
   "source": [
    "df = pd.DataFrame(vector.toarray(), columns=vect.get_feature_names(), index=['Word Count']).T.sort_values(by='Word Count', ascending=False)\n",
    "df.head(5)"
   ]
  },
  {
   "cell_type": "code",
   "execution_count": 10,
   "metadata": {},
   "outputs": [
    {
     "name": "stdout",
     "output_type": "stream",
     "text": [
      "Total Number of Words that are common to both the documents :: 2256\n"
     ]
    }
   ],
   "source": [
    "print(\"Total Number of Words that are common to both the documents ::\", len(df[df['Word Count']>0]))"
   ]
  }
 ],
 "metadata": {
  "kernelspec": {
   "display_name": "Python 3",
   "language": "python",
   "name": "python3"
  },
  "language_info": {
   "codemirror_mode": {
    "name": "ipython",
    "version": 3
   },
   "file_extension": ".py",
   "mimetype": "text/x-python",
   "name": "python",
   "nbconvert_exporter": "python",
   "pygments_lexer": "ipython3",
   "version": "3.7.4"
  }
 },
 "nbformat": 4,
 "nbformat_minor": 2
}
