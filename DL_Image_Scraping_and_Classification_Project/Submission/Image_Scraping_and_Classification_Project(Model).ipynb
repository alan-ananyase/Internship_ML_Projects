{
  "nbformat": 4,
  "nbformat_minor": 0,
  "metadata": {
    "colab": {
      "name": "Image_Scraping_and_Classification_Project(Model).ipynb",
      "provenance": [],
      "collapsed_sections": []
    },
    "kernelspec": {
      "name": "python3",
      "display_name": "Python 3"
    }
  },
  "cells": [
    {
      "cell_type": "code",
      "metadata": {
        "id": "vSaKqad4XcTU"
      },
      "source": [
        "import numpy as np\r\n",
        "import pandas as pd\r\n",
        "from keras.preprocessing import image\r\n",
        "import tensorflow as tf"
      ],
      "execution_count": 23,
      "outputs": []
    },
    {
      "cell_type": "code",
      "metadata": {
        "id": "clk2D2GKXoMP",
        "colab": {
          "base_uri": "https://localhost:8080/"
        },
        "outputId": "5c6c2bfe-a8b6-4f9f-974a-393156c08777"
      },
      "source": [
        "from google.colab import drive\r\n",
        "drive.mount('/content/drive')"
      ],
      "execution_count": 3,
      "outputs": [
        {
          "output_type": "stream",
          "text": [
            "Mounted at /content/drive\n"
          ],
          "name": "stdout"
        }
      ]
    },
    {
      "cell_type": "code",
      "metadata": {
        "colab": {
          "base_uri": "https://localhost:8080/"
        },
        "id": "38zChQQYYvHI",
        "outputId": "e282d695-1113-4199-f7d0-a841456f2f38"
      },
      "source": [
        "!ls \"/content/drive/My Drive/Google Colab Files\""
      ],
      "execution_count": 4,
      "outputs": [
        {
          "output_type": "stream",
          "text": [
            "Customer_retention_dataset  Data  Malignant_Comments_Classifier_Project\n"
          ],
          "name": "stdout"
        }
      ]
    },
    {
      "cell_type": "code",
      "metadata": {
        "colab": {
          "base_uri": "https://localhost:8080/",
          "height": 45
        },
        "id": "dFOdsjk0Ytqx",
        "outputId": "fa599f82-28b1-4e1b-816d-a4c8b163cb80"
      },
      "source": [
        "image.load_img('/content/drive/My Drive/Google Colab Files/Data/Scrap_Data/img_775.png', target_size=(28,28,1))"
      ],
      "execution_count": 5,
      "outputs": [
        {
          "output_type": "execute_result",
          "data": {
            "image/png": "[encoded data removed]",
            "text/plain": [
              "<PIL.Image.Image image mode=RGB size=28x28 at 0x7F89406A4CF8>"
            ]
          },
          "metadata": {
            "tags": []
          },
          "execution_count": 5
        }
      ]
    },
    {
      "cell_type": "code",
      "metadata": {
        "id": "RJqVs67acd2-"
      },
      "source": [
        "num = 776\r\n",
        "train_images = []\r\n",
        "\r\n",
        "for i in range(num):\r\n",
        "  img = image.load_img('/content/drive/My Drive/Google Colab Files/Data/Scrap_Data/img_{0}.png'.format(i), target_size=(28,28,1))\r\n",
        "  img = image.img_to_array(img)\r\n",
        "  img = tf.image.rgb_to_grayscale(img)\r\n",
        "  img = np.expand_dims(img, axis=0)\r\n",
        "  img = img/255\r\n",
        "  train_images.append(img)"
      ],
      "execution_count": 24,
      "outputs": []
    },
    {
      "cell_type": "code",
      "metadata": {
        "id": "RXpu8iRIZk6N"
      },
      "source": [
        "x = np.array(train_images)"
      ],
      "execution_count": 25,
      "outputs": []
    },
    {
      "cell_type": "code",
      "metadata": {
        "colab": {
          "base_uri": "https://localhost:8080/",
          "height": 415
        },
        "id": "4doBAG_Vc862",
        "outputId": "5066cd08-812d-4f02-dd4f-058f36dc57d7"
      },
      "source": [
        "labels = pd.read_csv('/content/drive/My Drive/Google Colab Files/Data/Webscraping_labels.csv', index_col=0)\r\n",
        "labels"
      ],
      "execution_count": 11,
      "outputs": [
        {
          "output_type": "execute_result",
          "data": {
            "text/html": [
              "<div>\n",
              "<style scoped>\n",
              "    .dataframe tbody tr th:only-of-type {\n",
              "        vertical-align: middle;\n",
              "    }\n",
              "\n",
              "    .dataframe tbody tr th {\n",
              "        vertical-align: top;\n",
              "    }\n",
              "\n",
              "    .dataframe thead th {\n",
              "        text-align: right;\n",
              "    }\n",
              "</style>\n",
              "<table border=\"1\" class=\"dataframe\">\n",
              "  <thead>\n",
              "    <tr style=\"text-align: right;\">\n",
              "      <th></th>\n",
              "      <th>labels</th>\n",
              "    </tr>\n",
              "  </thead>\n",
              "  <tbody>\n",
              "    <tr>\n",
              "      <th>0</th>\n",
              "      <td>Saree</td>\n",
              "    </tr>\n",
              "    <tr>\n",
              "      <th>1</th>\n",
              "      <td>Saree</td>\n",
              "    </tr>\n",
              "    <tr>\n",
              "      <th>2</th>\n",
              "      <td>Saree</td>\n",
              "    </tr>\n",
              "    <tr>\n",
              "      <th>3</th>\n",
              "      <td>Saree</td>\n",
              "    </tr>\n",
              "    <tr>\n",
              "      <th>4</th>\n",
              "      <td>Saree</td>\n",
              "    </tr>\n",
              "    <tr>\n",
              "      <th>...</th>\n",
              "      <td>...</td>\n",
              "    </tr>\n",
              "    <tr>\n",
              "      <th>771</th>\n",
              "      <td>Jeans_Men</td>\n",
              "    </tr>\n",
              "    <tr>\n",
              "      <th>772</th>\n",
              "      <td>Jeans_Men</td>\n",
              "    </tr>\n",
              "    <tr>\n",
              "      <th>773</th>\n",
              "      <td>Jeans_Men</td>\n",
              "    </tr>\n",
              "    <tr>\n",
              "      <th>774</th>\n",
              "      <td>Jeans_Men</td>\n",
              "    </tr>\n",
              "    <tr>\n",
              "      <th>775</th>\n",
              "      <td>Jeans_Men</td>\n",
              "    </tr>\n",
              "  </tbody>\n",
              "</table>\n",
              "<p>776 rows × 1 columns</p>\n",
              "</div>"
            ],
            "text/plain": [
              "        labels\n",
              "0        Saree\n",
              "1        Saree\n",
              "2        Saree\n",
              "3        Saree\n",
              "4        Saree\n",
              "..         ...\n",
              "771  Jeans_Men\n",
              "772  Jeans_Men\n",
              "773  Jeans_Men\n",
              "774  Jeans_Men\n",
              "775  Jeans_Men\n",
              "\n",
              "[776 rows x 1 columns]"
            ]
          },
          "metadata": {
            "tags": []
          },
          "execution_count": 11
        }
      ]
    },
    {
      "cell_type": "code",
      "metadata": {
        "colab": {
          "base_uri": "https://localhost:8080/"
        },
        "id": "sQ7nmOSyd8lO",
        "outputId": "03728799-94ec-4e01-a4e8-d26c41b5b7bc"
      },
      "source": [
        "from sklearn.preprocessing import LabelEncoder\r\n",
        "le = LabelEncoder()\r\n",
        "\r\n",
        "y = labels['labels'].values\r\n",
        "y = le.fit_transform(y)\r\n",
        "y # Saree - 1; Trousers - 2; Jeans - 0"
      ],
      "execution_count": 35,
      "outputs": [
        {
          "output_type": "execute_result",
          "data": {
            "text/plain": [
              "array([1, 1, 1, 1, 1, 1, 1, 1, 1, 1, 1, 1, 1, 1, 1, 1, 1, 1, 1, 1, 1, 1,\n",
              "       1, 1, 1, 1, 1, 1, 1, 1, 1, 1, 1, 1, 1, 1, 1, 1, 1, 1, 1, 1, 1, 1,\n",
              "       1, 1, 1, 1, 1, 1, 1, 1, 1, 1, 1, 1, 1, 1, 1, 1, 1, 1, 1, 1, 1, 1,\n",
              "       1, 1, 1, 1, 1, 1, 1, 1, 1, 1, 1, 1, 1, 1, 1, 1, 1, 1, 1, 1, 1, 1,\n",
              "       1, 1, 1, 1, 1, 1, 1, 1, 1, 1, 1, 1, 1, 1, 1, 1, 1, 1, 1, 1, 1, 1,\n",
              "       1, 1, 1, 1, 1, 1, 1, 1, 1, 1, 1, 1, 1, 1, 1, 1, 1, 1, 1, 1, 1, 1,\n",
              "       1, 1, 1, 1, 1, 1, 1, 1, 1, 1, 1, 1, 1, 1, 1, 1, 1, 1, 1, 1, 1, 1,\n",
              "       1, 1, 1, 1, 1, 1, 1, 1, 1, 1, 1, 1, 1, 1, 1, 1, 1, 1, 1, 1, 1, 1,\n",
              "       1, 1, 1, 1, 1, 1, 1, 1, 1, 1, 1, 1, 1, 1, 1, 1, 1, 1, 1, 1, 1, 1,\n",
              "       1, 1, 1, 1, 1, 1, 1, 1, 1, 1, 1, 1, 1, 1, 1, 1, 1, 1, 1, 1, 1, 1,\n",
              "       1, 1, 1, 1, 1, 1, 1, 1, 1, 1, 1, 1, 1, 1, 1, 1, 1, 1, 1, 1, 1, 1,\n",
              "       1, 1, 1, 1, 1, 1, 1, 1, 1, 1, 1, 1, 1, 1, 1, 1, 1, 1, 2, 2, 2, 2,\n",
              "       2, 2, 2, 2, 2, 2, 2, 2, 2, 2, 2, 2, 2, 2, 2, 2, 2, 2, 2, 2, 2, 2,\n",
              "       2, 2, 2, 2, 2, 2, 2, 2, 2, 2, 2, 2, 2, 2, 2, 2, 2, 2, 2, 2, 2, 2,\n",
              "       2, 2, 2, 2, 2, 2, 2, 2, 2, 2, 2, 2, 2, 2, 2, 2, 2, 2, 2, 2, 2, 2,\n",
              "       2, 2, 2, 2, 2, 2, 2, 2, 2, 2, 2, 2, 2, 2, 2, 2, 2, 2, 2, 2, 2, 2,\n",
              "       2, 2, 2, 2, 2, 2, 2, 2, 2, 2, 2, 2, 2, 2, 2, 2, 2, 2, 2, 2, 2, 2,\n",
              "       2, 2, 2, 2, 2, 2, 2, 2, 2, 2, 2, 2, 2, 2, 2, 2, 2, 2, 2, 2, 2, 2,\n",
              "       2, 2, 2, 2, 2, 2, 2, 2, 2, 2, 2, 2, 2, 2, 2, 2, 2, 2, 2, 2, 2, 2,\n",
              "       2, 2, 2, 2, 2, 2, 2, 2, 2, 2, 2, 2, 2, 2, 2, 2, 2, 2, 2, 2, 2, 2,\n",
              "       2, 2, 2, 2, 2, 2, 2, 2, 2, 2, 2, 2, 2, 2, 2, 2, 2, 2, 2, 2, 2, 2,\n",
              "       2, 2, 2, 2, 2, 2, 2, 2, 2, 2, 2, 2, 2, 2, 2, 2, 2, 2, 2, 2, 2, 2,\n",
              "       2, 2, 2, 2, 2, 2, 2, 2, 2, 2, 2, 2, 2, 2, 2, 2, 2, 2, 2, 2, 2, 2,\n",
              "       2, 2, 2, 2, 2, 2, 2, 2, 2, 2, 0, 0, 0, 0, 0, 0, 0, 0, 0, 0, 0, 0,\n",
              "       0, 0, 0, 0, 0, 0, 0, 0, 0, 0, 0, 0, 0, 0, 0, 0, 0, 0, 0, 0, 0, 0,\n",
              "       0, 0, 0, 0, 0, 0, 0, 0, 0, 0, 0, 0, 0, 0, 0, 0, 0, 0, 0, 0, 0, 0,\n",
              "       0, 0, 0, 0, 0, 0, 0, 0, 0, 0, 0, 0, 0, 0, 0, 0, 0, 0, 0, 0, 0, 0,\n",
              "       0, 0, 0, 0, 0, 0, 0, 0, 0, 0, 0, 0, 0, 0, 0, 0, 0, 0, 0, 0, 0, 0,\n",
              "       0, 0, 0, 0, 0, 0, 0, 0, 0, 0, 0, 0, 0, 0, 0, 0, 0, 0, 0, 0, 0, 0,\n",
              "       0, 0, 0, 0, 0, 0, 0, 0, 0, 0, 0, 0, 0, 0, 0, 0, 0, 0, 0, 0, 0, 0,\n",
              "       0, 0, 0, 0, 0, 0, 0, 0, 0, 0, 0, 0, 0, 0, 0, 0, 0, 0, 0, 0, 0, 0,\n",
              "       0, 0, 0, 0, 0, 0, 0, 0, 0, 0, 0, 0, 0, 0, 0, 0, 0, 0, 0, 0, 0, 0,\n",
              "       0, 0, 0, 0, 0, 0, 0, 0, 0, 0, 0, 0, 0, 0, 0, 0, 0, 0, 0, 0, 0, 0,\n",
              "       0, 0, 0, 0, 0, 0, 0, 0, 0, 0, 0, 0, 0, 0, 0, 0, 0, 0, 0, 0, 0, 0,\n",
              "       0, 0, 0, 0, 0, 0, 0, 0, 0, 0, 0, 0, 0, 0, 0, 0, 0, 0, 0, 0, 0, 0,\n",
              "       0, 0, 0, 0, 0, 0])"
            ]
          },
          "metadata": {
            "tags": []
          },
          "execution_count": 35
        }
      ]
    },
    {
      "cell_type": "code",
      "metadata": {
        "id": "x8mLNpzreP2N"
      },
      "source": [
        "from sklearn.model_selection import train_test_split\r\n",
        "\r\n",
        "x_train, x_test, y_train, y_test = train_test_split(x, y, random_state=42, test_size=0.2)"
      ],
      "execution_count": 37,
      "outputs": []
    },
    {
      "cell_type": "code",
      "metadata": {
        "id": "5lX-ICiJew-d"
      },
      "source": [
        "from keras.models import Sequential\r\n",
        "from keras.layers import Dense, Flatten"
      ],
      "execution_count": 53,
      "outputs": []
    },
    {
      "cell_type": "code",
      "metadata": {
        "id": "-StSbs_nd8as"
      },
      "source": [
        "model = tf.keras.Sequential([\r\n",
        "        tf.keras.layers.Flatten(input_shape=(28, 28)),      # as per pixels\r\n",
        "        tf.keras.layers.Dense(128, activation='relu'),      # 2nd layer\r\n",
        "        tf.keras.layers.Dense(3)                           # output layer has 3 classes\r\n",
        "])"
      ],
      "execution_count": 54,
      "outputs": []
    },
    {
      "cell_type": "code",
      "metadata": {
        "colab": {
          "base_uri": "https://localhost:8080/"
        },
        "id": "Mx80Y0oyoa-7",
        "outputId": "d3e3c86a-2676-4771-f250-4dec6a6c7ce5"
      },
      "source": [
        "model.summary()"
      ],
      "execution_count": 55,
      "outputs": [
        {
          "output_type": "stream",
          "text": [
            "Model: \"sequential_7\"\n",
            "_________________________________________________________________\n",
            "Layer (type)                 Output Shape              Param #   \n",
            "=================================================================\n",
            "flatten_7 (Flatten)          (None, 784)               0         \n",
            "_________________________________________________________________\n",
            "dense_14 (Dense)             (None, 128)               100480    \n",
            "_________________________________________________________________\n",
            "dense_15 (Dense)             (None, 3)                 387       \n",
            "=================================================================\n",
            "Total params: 100,867\n",
            "Trainable params: 100,867\n",
            "Non-trainable params: 0\n",
            "_________________________________________________________________\n"
          ],
          "name": "stdout"
        }
      ]
    },
    {
      "cell_type": "code",
      "metadata": {
        "id": "MvADJjyejDk7"
      },
      "source": [
        "model.compile(optimizer='adam',\r\n",
        "              loss=tf.keras.losses.SparseCategoricalCrossentropy(from_logits=True),\r\n",
        "              metrics=['accuracy']) #if no metrics, the same will not be shown in the model.fit result"
      ],
      "execution_count": 57,
      "outputs": []
    },
    {
      "cell_type": "code",
      "metadata": {
        "colab": {
          "base_uri": "https://localhost:8080/"
        },
        "id": "OZOVdfKmjG5I",
        "outputId": "43550efd-a59b-447e-8388-7ecdbd073451"
      },
      "source": [
        "model.fit(x_train, y_train, epochs=15, validation_data=(x_test, y_test))"
      ],
      "execution_count": 58,
      "outputs": [
        {
          "output_type": "stream",
          "text": [
            "Epoch 1/15\n",
            "WARNING:tensorflow:Model was constructed with shape (None, 28, 28) for input KerasTensor(type_spec=TensorSpec(shape=(None, 28, 28), dtype=tf.float32, name='flatten_7_input'), name='flatten_7_input', description=\"created by layer 'flatten_7_input'\"), but it was called on an input with incompatible shape (None, 1, 28, 28, 1).\n",
            "WARNING:tensorflow:Model was constructed with shape (None, 28, 28) for input KerasTensor(type_spec=TensorSpec(shape=(None, 28, 28), dtype=tf.float32, name='flatten_7_input'), name='flatten_7_input', description=\"created by layer 'flatten_7_input'\"), but it was called on an input with incompatible shape (None, 1, 28, 28, 1).\n",
            "20/20 [==============================] - ETA: 0s - loss: 1.2856 - accuracy: 0.4694WARNING:tensorflow:Model was constructed with shape (None, 28, 28) for input KerasTensor(type_spec=TensorSpec(shape=(None, 28, 28), dtype=tf.float32, name='flatten_7_input'), name='flatten_7_input', description=\"created by layer 'flatten_7_input'\"), but it was called on an input with incompatible shape (None, 1, 28, 28, 1).\n",
            "20/20 [==============================] - 0s 11ms/step - loss: 1.2718 - accuracy: 0.4743 - val_loss: 0.6384 - val_accuracy: 0.6474\n",
            "Epoch 2/15\n",
            "20/20 [==============================] - 0s 4ms/step - loss: 0.5711 - accuracy: 0.7277 - val_loss: 0.5462 - val_accuracy: 0.7308\n",
            "Epoch 3/15\n",
            "20/20 [==============================] - 0s 4ms/step - loss: 0.5000 - accuracy: 0.7656 - val_loss: 0.5792 - val_accuracy: 0.6282\n",
            "Epoch 4/15\n",
            "20/20 [==============================] - 0s 4ms/step - loss: 0.5574 - accuracy: 0.7068 - val_loss: 0.5223 - val_accuracy: 0.7244\n",
            "Epoch 5/15\n",
            "20/20 [==============================] - 0s 4ms/step - loss: 0.4611 - accuracy: 0.8026 - val_loss: 0.4849 - val_accuracy: 0.7436\n",
            "Epoch 6/15\n",
            "20/20 [==============================] - 0s 4ms/step - loss: 0.4374 - accuracy: 0.8442 - val_loss: 0.5021 - val_accuracy: 0.7179\n",
            "Epoch 7/15\n",
            "20/20 [==============================] - 0s 4ms/step - loss: 0.4213 - accuracy: 0.8027 - val_loss: 0.4259 - val_accuracy: 0.8077\n",
            "Epoch 8/15\n",
            "20/20 [==============================] - 0s 4ms/step - loss: 0.3645 - accuracy: 0.8613 - val_loss: 0.4066 - val_accuracy: 0.8269\n",
            "Epoch 9/15\n",
            "20/20 [==============================] - 0s 4ms/step - loss: 0.3858 - accuracy: 0.8780 - val_loss: 0.4008 - val_accuracy: 0.8910\n",
            "Epoch 10/15\n",
            "20/20 [==============================] - 0s 4ms/step - loss: 0.3469 - accuracy: 0.8817 - val_loss: 0.5306 - val_accuracy: 0.7308\n",
            "Epoch 11/15\n",
            "20/20 [==============================] - 0s 4ms/step - loss: 0.3672 - accuracy: 0.8330 - val_loss: 0.4454 - val_accuracy: 0.7756\n",
            "Epoch 12/15\n",
            "20/20 [==============================] - 0s 4ms/step - loss: 0.3319 - accuracy: 0.9035 - val_loss: 0.3425 - val_accuracy: 0.9038\n",
            "Epoch 13/15\n",
            "20/20 [==============================] - 0s 4ms/step - loss: 0.2950 - accuracy: 0.9288 - val_loss: 0.3252 - val_accuracy: 0.9167\n",
            "Epoch 14/15\n",
            "20/20 [==============================] - 0s 4ms/step - loss: 0.2939 - accuracy: 0.8964 - val_loss: 0.3142 - val_accuracy: 0.9103\n",
            "Epoch 15/15\n",
            "20/20 [==============================] - 0s 4ms/step - loss: 0.2666 - accuracy: 0.9282 - val_loss: 0.3048 - val_accuracy: 0.9231\n"
          ],
          "name": "stdout"
        },
        {
          "output_type": "execute_result",
          "data": {
            "text/plain": [
              "<tensorflow.python.keras.callbacks.History at 0x7f88ef02b9e8>"
            ]
          },
          "metadata": {
            "tags": []
          },
          "execution_count": 58
        }
      ]
    }
  ]
}