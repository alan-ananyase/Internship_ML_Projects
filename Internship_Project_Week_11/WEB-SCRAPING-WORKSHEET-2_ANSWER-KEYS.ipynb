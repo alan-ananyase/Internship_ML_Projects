{
 "cells": [
  {
   "cell_type": "markdown",
   "metadata": {},
   "source": [
    "# WEB SCRAPING - WORKSHEET 2\n",
    "## ANSWER KEYS\n",
    "\n",
    "1. (A) search_all\n",
    "2. (C) Unix\n",
    "3. (C) ASP\n",
    "4. (D) send_keys()\n",
    "5. (B) Indexing\n",
    "6. (C) Web-spider\n",
    "7. (C) WebDriverWait\n",
    "8. (C) verifyelement\n",
    "9. (C) XML\n",
    "10. (B) find_element_by_id\n",
    "11. (A) class                                                                                                                \n",
    "    (B) href                                                                                                                \n",
    "12. (B) soup_parser                                                                                                           \n",
    "    (C) lxml                                                                                                                  \n",
    "13. (A) Selenium                                                                                                              \n",
    "    (B) BeautifulSoup                                                                                                         \n",
    "    (C) Requests                                                                                                             \n",
    "14. **Answer is as follows :**"
   ]
  },
  {
   "cell_type": "code",
   "execution_count": 1,
   "metadata": {},
   "outputs": [],
   "source": [
    "# Scraping Rayban Glasses\n",
    "\n",
    "# Importing Libraries\n",
    "import selenium\n",
    "import pandas as pd\n",
    "import time\n",
    "\n",
    "# Importing selenium webdriver  \n",
    "from selenium import webdriver\n",
    "from selenium.webdriver.chrome.options import Options\n",
    "# Importing required Exceptions which needs to handled\n",
    "from selenium.common.exceptions import StaleElementReferenceException, NoSuchElementException, ElementClickInterceptedException"
   ]
  },
  {
   "cell_type": "code",
   "execution_count": 8,
   "metadata": {},
   "outputs": [],
   "source": [
    "# Activating the chrome browserhttp://localhost:8888/notebooks/Downloads/Job%20Crawl.ipynb#\n",
    "driver = webdriver.Chrome(r'C:\\Users\\user 14\\Downloads\\chromedriver.exe')"
   ]
  },
  {
   "cell_type": "code",
   "execution_count": 9,
   "metadata": {},
   "outputs": [],
   "source": [
    "# Opening the homepage of Amazon.in\n",
    "driver.get('https://www.flipkart.com')"
   ]
  },
  {
   "cell_type": "code",
   "execution_count": 10,
   "metadata": {},
   "outputs": [],
   "source": [
    "# searching for raban sunglasses\n",
    "search_field=driver.find_element_by_xpath(\"//div[@class='O8ZS_U']/input\")\n",
    "search_field.send_keys(\"rayban sunglasses\")\n",
    "search_button=driver.find_element_by_xpath(\"//div[@class='col-12-12 _2tVp4j']/button\")\n",
    "search_button.submit()"
   ]
  },
  {
   "cell_type": "code",
   "execution_count": 11,
   "metadata": {},
   "outputs": [],
   "source": [
    "#getting the images url\n",
    "urls=[i.get_attribute('src') for i in driver.find_elements_by_xpath(\"//img[@class='_3togXc']\")]"
   ]
  },
  {
   "cell_type": "code",
   "execution_count": 12,
   "metadata": {},
   "outputs": [
    {
     "data": {
      "text/plain": [
       "40"
      ]
     },
     "execution_count": 12,
     "metadata": {},
     "output_type": "execute_result"
    }
   ],
   "source": [
    "len(urls)"
   ]
  },
  {
   "cell_type": "code",
   "execution_count": 20,
   "metadata": {},
   "outputs": [],
   "source": [
    "#create directory to save_images\n",
    "import os\n",
    "import requests\n",
    "def create_dir(dirname):\n",
    "     os.mkdir(os.path.join(os.getcwd(),dirname))\n",
    "     return (os.path.join(os.getcwd(),dirname))"
   ]
  },
  {
   "cell_type": "code",
   "execution_count": 19,
   "metadata": {},
   "outputs": [],
   "source": [
    "image_dir=create_dir(\"Rayban\")"
   ]
  },
  {
   "cell_type": "code",
   "execution_count": 23,
   "metadata": {},
   "outputs": [],
   "source": [
    "# reading the images  from urls and then saving them in the rayban directory created above\n",
    "for index,url in enumerate(urls):\n",
    "    response=requests.get(url)\n",
    "    with open(r\"\"+image_dir+\"/image{}\".format(index)+\".jpeg\",\"wb\") as f:\n",
    "        f.write(response.content)"
   ]
  },
  {
   "cell_type": "markdown",
   "metadata": {},
   "source": [
    "15. **Answer is as follows :**"
   ]
  },
  {
   "cell_type": "code",
   "execution_count": 41,
   "metadata": {},
   "outputs": [],
   "source": [
    "# Scraping Mouse data\n",
    "\n",
    "# Opening the homepage of Amazon.in\n",
    "driver.get('https://www.amazon.in/')"
   ]
  },
  {
   "cell_type": "code",
   "execution_count": 42,
   "metadata": {},
   "outputs": [],
   "source": [
    "# searching for mouses\n",
    "search_field=driver.find_element_by_xpath(\"//div[@class='nav-search-field ']/input\")\n",
    "search_field.send_keys(\"mouses\")\n",
    "search_button=driver.find_element_by_xpath(\"//div[@class='nav-search-submit nav-sprite']/span/input\")\n",
    "search_button.submit()"
   ]
  },
  {
   "cell_type": "code",
   "execution_count": 43,
   "metadata": {},
   "outputs": [],
   "source": [
    "#setting the price filter for price<500\n",
    "min_field=driver.find_element_by_xpath(\"//li[@id='p_36/price-range']/span[1]/form[1]/input[5]\")\n",
    "min_field.send_keys(\"0\")  \n",
    "max_field=driver.find_element_by_xpath(\"//li[@id='p_36/price-range']/span[1]/form[1]/input[6]\")    \n",
    "max_field.send_keys(\"500\")\n",
    "search_filter=driver.find_element_by_xpath(\"//li[@id='p_36/price-range']/span[1]/form[1]/span[3]/span[1]/input\")                                    \n",
    "search_filter.submit()                                       "
   ]
  },
  {
   "cell_type": "code",
   "execution_count": 50,
   "metadata": {},
   "outputs": [],
   "source": [
    "# getting the required info of the mouses\n",
    "price=[]\n",
    "model_name=[]\n",
    "for page in range(0,10):\n",
    "        if len(price)>20:\n",
    "            break\n",
    "        for i in driver.find_elements_by_xpath(\"//div[@class='a-row']/a/span[1]/span[2]/span[2]\"):\n",
    "            price.append(i.text)\n",
    "        for i in driver.find_elements_by_xpath(\"//h2[@class='a-size-mini a-spacing-none a-color-base s-line-clamp-2']/a/span\"):\n",
    "            model_name.append(i.text)\n",
    "        #getting the next page button and clicking\n",
    "        next_page=driver.find_element_by_xpath(\"//li[@class='a-last']/a\").get_attribute(\"href\")\n",
    "        driver.get(next_page)\n",
    "        \n",
    "   "
   ]
  },
  {
   "cell_type": "code",
   "execution_count": 55,
   "metadata": {
    "scrolled": true
   },
   "outputs": [
    {
     "data": {
      "text/html": [
       "<div>\n",
       "<style scoped>\n",
       "    .dataframe tbody tr th:only-of-type {\n",
       "        vertical-align: middle;\n",
       "    }\n",
       "\n",
       "    .dataframe tbody tr th {\n",
       "        vertical-align: top;\n",
       "    }\n",
       "\n",
       "    .dataframe thead th {\n",
       "        text-align: right;\n",
       "    }\n",
       "</style>\n",
       "<table border=\"1\" class=\"dataframe\">\n",
       "  <thead>\n",
       "    <tr style=\"text-align: right;\">\n",
       "      <th></th>\n",
       "      <th>model_name</th>\n",
       "      <th>price</th>\n",
       "    </tr>\n",
       "  </thead>\n",
       "  <tbody>\n",
       "    <tr>\n",
       "      <th>0</th>\n",
       "      <td>HP X1000 Wired Mouse (Black/Grey)</td>\n",
       "      <td>349</td>\n",
       "    </tr>\n",
       "    <tr>\n",
       "      <th>1</th>\n",
       "      <td>Xmate Zorro Wired USB Gaming Mouse, 3200 DPI O...</td>\n",
       "      <td>499</td>\n",
       "    </tr>\n",
       "    <tr>\n",
       "      <th>2</th>\n",
       "      <td>Xmate Rio Wired USB Gaming Mouse, Led Backlit,...</td>\n",
       "      <td>399</td>\n",
       "    </tr>\n",
       "    <tr>\n",
       "      <th>3</th>\n",
       "      <td>Lenovo 300 Wired USB Mouse, GX30M39704</td>\n",
       "      <td>299</td>\n",
       "    </tr>\n",
       "    <tr>\n",
       "      <th>4</th>\n",
       "      <td>iBall Style 63 Optical Mouse (Black)</td>\n",
       "      <td>429</td>\n",
       "    </tr>\n",
       "    <tr>\n",
       "      <th>5</th>\n",
       "      <td>Red Gear Dragonwar Emera ELE-G11 3200 DPI Gami...</td>\n",
       "      <td>170</td>\n",
       "    </tr>\n",
       "    <tr>\n",
       "      <th>6</th>\n",
       "      <td>Zebronics Zeb-Comfort+ Wired Mouse</td>\n",
       "      <td>410</td>\n",
       "    </tr>\n",
       "    <tr>\n",
       "      <th>7</th>\n",
       "      <td>Dell Ms116 275-BBCB Optical Mouse</td>\n",
       "      <td>199</td>\n",
       "    </tr>\n",
       "    <tr>\n",
       "      <th>8</th>\n",
       "      <td>Zinq Technologies ZQ233 Wired Mouse with 1000D...</td>\n",
       "      <td>499</td>\n",
       "    </tr>\n",
       "    <tr>\n",
       "      <th>9</th>\n",
       "      <td>Riversong Click S WM01 2.4G Wireless Optical M...</td>\n",
       "      <td>314</td>\n",
       "    </tr>\n",
       "    <tr>\n",
       "      <th>10</th>\n",
       "      <td>Portronics POR-015 Toad 11 Wireless Mouse with...</td>\n",
       "      <td>199</td>\n",
       "    </tr>\n",
       "    <tr>\n",
       "      <th>11</th>\n",
       "      <td>Zinq Technologies ZQ233 Wired Mouse with 1000D...</td>\n",
       "      <td>145</td>\n",
       "    </tr>\n",
       "    <tr>\n",
       "      <th>12</th>\n",
       "      <td>Live Tech MS-19 USB Wired Black Color Optical ...</td>\n",
       "      <td>410</td>\n",
       "    </tr>\n",
       "    <tr>\n",
       "      <th>13</th>\n",
       "      <td>Dell MS116 1000DPI USB Wired Optical Mouse</td>\n",
       "      <td>445</td>\n",
       "    </tr>\n",
       "    <tr>\n",
       "      <th>14</th>\n",
       "      <td>HP USB X500 Wired Optical Sensor Mouse 3 Butto...</td>\n",
       "      <td>198</td>\n",
       "    </tr>\n",
       "    <tr>\n",
       "      <th>15</th>\n",
       "      <td>Zebronics Zeb Power Wired Mouse</td>\n",
       "      <td>449</td>\n",
       "    </tr>\n",
       "    <tr>\n",
       "      <th>16</th>\n",
       "      <td>Zinq Technologies 1070 3200 DPI LED Backlight ...</td>\n",
       "      <td>349</td>\n",
       "    </tr>\n",
       "    <tr>\n",
       "      <th>17</th>\n",
       "      <td>MFTEK Tag 3 2000 dpi LED Backlit Wired Gaming ...</td>\n",
       "      <td>280</td>\n",
       "    </tr>\n",
       "    <tr>\n",
       "      <th>18</th>\n",
       "      <td>KECINOVA ENTERPRISE Pack of 2 Comfort Mouse Pa...</td>\n",
       "      <td>280</td>\n",
       "    </tr>\n",
       "    <tr>\n",
       "      <th>19</th>\n",
       "      <td>KECINOVA ENTERPRISE Pack of 2 Comfort Mouse Pa...</td>\n",
       "      <td>413</td>\n",
       "    </tr>\n",
       "  </tbody>\n",
       "</table>\n",
       "</div>"
      ],
      "text/plain": [
       "                                           model_name price\n",
       "0                   HP X1000 Wired Mouse (Black/Grey)   349\n",
       "1   Xmate Zorro Wired USB Gaming Mouse, 3200 DPI O...   499\n",
       "2   Xmate Rio Wired USB Gaming Mouse, Led Backlit,...   399\n",
       "3              Lenovo 300 Wired USB Mouse, GX30M39704   299\n",
       "4                iBall Style 63 Optical Mouse (Black)   429\n",
       "5   Red Gear Dragonwar Emera ELE-G11 3200 DPI Gami...   170\n",
       "6                  Zebronics Zeb-Comfort+ Wired Mouse   410\n",
       "7                   Dell Ms116 275-BBCB Optical Mouse   199\n",
       "8   Zinq Technologies ZQ233 Wired Mouse with 1000D...   499\n",
       "9   Riversong Click S WM01 2.4G Wireless Optical M...   314\n",
       "10  Portronics POR-015 Toad 11 Wireless Mouse with...   199\n",
       "11  Zinq Technologies ZQ233 Wired Mouse with 1000D...   145\n",
       "12  Live Tech MS-19 USB Wired Black Color Optical ...   410\n",
       "13         Dell MS116 1000DPI USB Wired Optical Mouse   445\n",
       "14  HP USB X500 Wired Optical Sensor Mouse 3 Butto...   198\n",
       "15                    Zebronics Zeb Power Wired Mouse   449\n",
       "16  Zinq Technologies 1070 3200 DPI LED Backlight ...   349\n",
       "17  MFTEK Tag 3 2000 dpi LED Backlit Wired Gaming ...   280\n",
       "18  KECINOVA ENTERPRISE Pack of 2 Comfort Mouse Pa...   280\n",
       "19  KECINOVA ENTERPRISE Pack of 2 Comfort Mouse Pa...   413"
      ]
     },
     "execution_count": 55,
     "metadata": {},
     "output_type": "execute_result"
    }
   ],
   "source": [
    "# creating a dataframe from the scraped data of only 20 mouses\n",
    "df=pd.DataFrame()\n",
    "df['model_name']=model_name[0:20]\n",
    "df['price']=price[0:20]\n",
    "df"
   ]
  },
  {
   "cell_type": "markdown",
   "metadata": {},
   "source": [
    "# End of Document"
   ]
  }
 ],
 "metadata": {
  "kernelspec": {
   "display_name": "Python 3",
   "language": "python",
   "name": "python3"
  },
  "language_info": {
   "codemirror_mode": {
    "name": "ipython",
    "version": 3
   },
   "file_extension": ".py",
   "mimetype": "text/x-python",
   "name": "python",
   "nbconvert_exporter": "python",
   "pygments_lexer": "ipython3",
   "version": "3.7.4"
  }
 },
 "nbformat": 4,
 "nbformat_minor": 4
}
