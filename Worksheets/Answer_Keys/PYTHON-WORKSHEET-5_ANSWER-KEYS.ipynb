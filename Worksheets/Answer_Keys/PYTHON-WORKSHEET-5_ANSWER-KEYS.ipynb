{
 "cells": [
  {
   "cell_type": "markdown",
   "metadata": {},
   "source": [
    "# PYTHON - WORKSHEET 5\n",
    "## ANSWER KEYS\n",
    "\n",
    "1. (C) +\n",
    "2. (D) i-False, ii-True.        **Reason:** Lists can be of single or multiple dimensions and lists are mutable.\n",
    "3. (B) [\"ABC\",\"RAHUL\",\"NITIN\"]\n",
    "4. (D) [2,4,6]\n",
    "5. (C) [6]\n",
    "6. (D) None of the above\n",
    "7. (B) error\n",
    "8. (C) a[1][1]\n",
    "9. (D) None of the above\n",
    "10. (A) sets are one-dimensional data structures                                                                            \n",
    "    (B) no two elements of a set can be same\n",
    "11. (i) list is a sequence, i.e. it is an ordered collection of items. The order is given by indices. While sets are unordered collection of items.                                                                                                   \n",
    "    (ii) list can have duplicate items but sets have only unique items.\n",
    "12. **Answer is as follows :**"
   ]
  },
  {
   "cell_type": "code",
   "execution_count": 1,
   "metadata": {},
   "outputs": [
    {
     "name": "stdout",
     "output_type": "stream",
     "text": [
      "enter the length of the list11\n",
      "enter element number 15\n",
      "enter element number 26\n",
      "enter element number 377\n",
      "enter element number 41\n",
      "enter element number 53\n",
      "enter element number 620\n",
      "enter element number 721\n",
      "enter element number 826\n",
      "enter element number 94\n",
      "enter element number 1056\n",
      "enter element number 1171\n",
      "the squared elements list is [25, 36, 5929, 1, 9, 400, 441, 676, 16, 3136, 5041]\n"
     ]
    }
   ],
   "source": [
    "# program to square the elements of a list by using list comprehension\n",
    "n=int(input(\"enter the length of the list\"))\n",
    "l=[]\n",
    "for i in range(0,n):\n",
    "    l.append(int(input(\"enter element number {}\".format(i+1))))\n",
    "squared_list=[i**2 for i in l]\n",
    "print(\"the squared elements list is\",squared_list)"
   ]
  },
  {
   "cell_type": "markdown",
   "metadata": {},
   "source": [
    "13. **Answer is as follows :**"
   ]
  },
  {
   "cell_type": "code",
   "execution_count": 2,
   "metadata": {},
   "outputs": [
    {
     "name": "stdout",
     "output_type": "stream",
     "text": [
      "The final list with duplicate elements droped :  [1, 2, 3, 56, 7, 8]\n"
     ]
    }
   ],
   "source": [
    "# Program to drop duplicate elements from a list\n",
    "l=[1,2,3,3,56,7,8] #list with duplicate items\n",
    "k=[] #empty list\n",
    "for i in l :\n",
    "    if i in k:\n",
    "        l.remove(i)\n",
    "    else:\n",
    "        k.append(i)\n",
    "print(\"The final list with duplicate elements droped : \",l)\n",
    "    "
   ]
  },
  {
   "cell_type": "markdown",
   "metadata": {},
   "source": [
    "14. **Answer is as follows :**"
   ]
  },
  {
   "cell_type": "code",
   "execution_count": 3,
   "metadata": {},
   "outputs": [
    {
     "name": "stdout",
     "output_type": "stream",
     "text": [
      "the intersection is {24, 56}\n",
      "the union is {1, 2, 3, 45, 24, 56}\n",
      "the  set a difference set b is {1, 45}\n",
      "the symmetric_difference is {1, 2, 3, 45}\n"
     ]
    }
   ],
   "source": [
    "# Program to demonstrate set operations\n",
    "a={1,24,45,56} #set 1\n",
    "b={2,3,24,56} #set 2\n",
    "intersect_=a.intersection(b)\n",
    "print(\"the intersection is\",intersect_)\n",
    "\n",
    "union_=a.union(b)\n",
    "print(\"the union is\",union_)\n",
    "\n",
    "difference_=a.difference(b)\n",
    "print(\"the  set a difference set b is\",difference_)\n",
    "\n",
    "sd=a.symmetric_difference(b)\n",
    "print(\"the symmetric_difference is\",sd)"
   ]
  },
  {
   "cell_type": "markdown",
   "metadata": {},
   "source": [
    "15. **Answer is as follows :**"
   ]
  },
  {
   "cell_type": "code",
   "execution_count": 4,
   "metadata": {},
   "outputs": [
    {
     "name": "stdout",
     "output_type": "stream",
     "text": [
      "sum of elements of set is  205\n"
     ]
    }
   ],
   "source": [
    "# Program for adding elements to a set\n",
    "a= {1,3,45,67,89} #set\n",
    "sum_=0\n",
    "for i in a:\n",
    "    sum_=sum_+i\n",
    "print(\"sum of elements of set is \",sum_)"
   ]
  }
 ],
 "metadata": {
  "kernelspec": {
   "display_name": "Python 3",
   "language": "python",
   "name": "python3"
  },
  "language_info": {
   "codemirror_mode": {
    "name": "ipython",
    "version": 3
   },
   "file_extension": ".py",
   "mimetype": "text/x-python",
   "name": "python",
   "nbconvert_exporter": "python",
   "pygments_lexer": "ipython3",
   "version": "3.7.7"
  }
 },
 "nbformat": 4,
 "nbformat_minor": 4
}
