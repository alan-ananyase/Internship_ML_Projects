{
 "cells": [
  {
   "cell_type": "markdown",
   "metadata": {},
   "source": [
    "# PYTHON - WORKSHEET 4\n",
    "## ANSWER KEYS\n",
    "\n",
    "1.\t(B) len()\n",
    "2.\t(C) compiled then interpreted\n",
    "3.\t(B) [1,2,2,1]\n",
    "4.\t(D) [60,30]\n",
    "5.\t(C) [ : :-1]\n",
    "6.\t(B) Meena\n",
    "7.\t(C) [“World Hello ”, “Python Hello ”, “World Adios ”, “Python Adios ”]\n",
    "8.\t(A) 4\n",
    "9.\t(A) l1 + l2                                                                                                               \n",
    "    (D) l1.extend(l2)                                                                                                         \n",
    "10.\t(A) s[0]+s[-1]                                                                                                             \n",
    "    (B) s[ : : -1][-1] + s[len(s)-1]                                                                                           \n",
    "    (D) s[ : : -1][ : : -6]                                                                                                    \n",
    "11.\tBoth compiler and interpreter are language translators which convert a High Level Language to Machine Language. The             difference between the two are as follows:                                                                                \n",
    "    •\tCompiler converts the whole program to machine language at once and then displays all the errors whereas interpreter           converts each line of code one by one and stops if there is any error in the lines, it resumes when all the errors of           previous line are resolved.                                                                                            \n",
    "    •\tCompiler works faster than an interpreter.\n",
    "    Python works with a combination of both, first it compiles the whole program then displays the error one by one like an         interpreter. Once the error in current line is resolved it moves forward to next line unless the whole program’s errors are     resolved.\n",
    "12.\tPYTHONPATH Environment variable tells the Python interpreter where to locate the module files imported into a program. It       should include the Python source library directory and the directories containing Python source code. PYTHONPATH is             sometimes preset by the Python installer.\n",
    "13.\tString.strip() removes all the leading and trailing whitespaces from the string. For eg:                                   \n",
    "    String = \"         Python is great      \"                                                                                  \n",
    "    Print(String.strip())                                                                                                      \n",
    "    **OUTPUT :**                                                                                                               \n",
    "    Python is great\n",
    "14. **Answer is as follows :**"
   ]
  },
  {
   "cell_type": "code",
   "execution_count": 1,
   "metadata": {},
   "outputs": [
    {
     "name": "stdout",
     "output_type": "stream",
     "text": [
      "Enter a non negative integer number :7943610\n",
      "Expanded form =  7 * 1000000 + 9 * 100000 + 4 * 10000 + 3 * 1000 + 6 * 100 + 1 * 10 + 0 * 1\n"
     ]
    }
   ],
   "source": [
    "# Program for displaying expanded form of a number\n",
    "num = int(input(\"Enter a non negative integer number :\"))\n",
    "\n",
    "# Changed num variable to string, \n",
    "# and calculated the length (number of digits)\n",
    "order = len(str(num))\n",
    "\n",
    "#Empty string to store the results\n",
    "res = ''\n",
    "\n",
    "for i in range(order-1,0,-1):\n",
    "    d = num//(10**i)\n",
    "    res+=\"{} * {} + \".format(d, 10**(i))\n",
    "    num %= 10**i\n",
    "res+=\"{} * 1\".format(num)\n",
    "print(\"Expanded form = \", res)"
   ]
  },
  {
   "cell_type": "markdown",
   "metadata": {},
   "source": [
    "15. **Answer is as follows :**"
   ]
  },
  {
   "cell_type": "code",
   "execution_count": 2,
   "metadata": {},
   "outputs": [
    {
     "name": "stdout",
     "output_type": "stream",
     "text": [
      "Enter a non negative integer number :54748\n",
      "54748  is an Armstrong number of the order  5\n"
     ]
    }
   ],
   "source": [
    "# Program to check whether entered number is an armstrong number or not\n",
    "\n",
    "num = int(input(\"Enter a non negative integer number :\"))\n",
    "\n",
    "# Changed num variable to string, \n",
    "# and calculated the length (number of digits)\n",
    "order = len(str(num))\n",
    "\n",
    "# initialize sum\n",
    "sum = 0\n",
    "\n",
    "# find the sum of the each digit raised to the power of the order\n",
    "temp = num\n",
    "while temp > 0:\n",
    "    digit = temp % 10\n",
    "    sum += digit ** order\n",
    "    temp //= 10\n",
    "\n",
    "# display the result\n",
    "if num == sum:\n",
    "    print(num,\" is an Armstrong number of the order \", order)\n",
    "else:\n",
    "    print(num,\"is not an Armstrong number\")"
   ]
  }
 ],
 "metadata": {
  "kernelspec": {
   "display_name": "Python 3",
   "language": "python",
   "name": "python3"
  },
  "language_info": {
   "codemirror_mode": {
    "name": "ipython",
    "version": 3
   },
   "file_extension": ".py",
   "mimetype": "text/x-python",
   "name": "python",
   "nbconvert_exporter": "python",
   "pygments_lexer": "ipython3",
   "version": "3.7.7"
  }
 },
 "nbformat": 4,
 "nbformat_minor": 4
}
