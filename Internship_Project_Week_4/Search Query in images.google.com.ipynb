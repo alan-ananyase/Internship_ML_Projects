{
 "cells": [
  {
   "cell_type": "code",
   "execution_count": 1,
   "metadata": {},
   "outputs": [],
   "source": [
    "from selenium import webdriver"
   ]
  },
  {
   "cell_type": "code",
   "execution_count": 9,
   "metadata": {},
   "outputs": [],
   "source": [
    "def search_image(Query):\n",
    "    # Open webdriver\n",
    "    driver = webdriver.Chrome('chromedriver.exe')\n",
    "\n",
    "    # Open URL\n",
    "    driver.get('https://images.google.com')\n",
    "\n",
    "    # Select the Seach bar and type Search Query\n",
    "    driver.find_element_by_xpath(\"//input[@class='gLFyf gsfi']\").send_keys(Query)\n",
    "\n",
    "    # Click on Search Button\n",
    "    driver.find_element_by_xpath(\"//button[@class='Tg7LZd']\").click()"
   ]
  },
  {
   "cell_type": "code",
   "execution_count": 11,
   "metadata": {},
   "outputs": [],
   "source": [
    "search_image(\"Fun with python\")"
   ]
  }
 ],
 "metadata": {
  "kernelspec": {
   "display_name": "Python 3",
   "language": "python",
   "name": "python3"
  },
  "language_info": {
   "codemirror_mode": {
    "name": "ipython",
    "version": 3
   },
   "file_extension": ".py",
   "mimetype": "text/x-python",
   "name": "python",
   "nbconvert_exporter": "python",
   "pygments_lexer": "ipython3",
   "version": "3.7.4"
  }
 },
 "nbformat": 4,
 "nbformat_minor": 2
}
