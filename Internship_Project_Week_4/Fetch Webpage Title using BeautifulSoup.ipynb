{
 "cells": [
  {
   "cell_type": "code",
   "execution_count": 1,
   "metadata": {},
   "outputs": [],
   "source": [
    "from bs4 import BeautifulSoup\n",
    "import requests"
   ]
  },
  {
   "cell_type": "code",
   "execution_count": 9,
   "metadata": {},
   "outputs": [],
   "source": [
    "def title(url):\n",
    "    res = requests.get(url)\n",
    "    bs = BeautifulSoup(res.content)\n",
    "#     bs\n",
    "    title = bs.find_all(\"title\")[0]\n",
    "    if title==\"None\":\n",
    "        print(\"No title available\")\n",
    "    else: print(title.text)"
   ]
  },
  {
   "cell_type": "code",
   "execution_count": 11,
   "metadata": {},
   "outputs": [
    {
     "name": "stdout",
     "output_type": "stream",
     "text": [
      "The world’s leading software development platform · GitHub\n"
     ]
    }
   ],
   "source": [
    "title(\"https://www.github.com\") # Write complete url including \"http://\""
   ]
  }
 ],
 "metadata": {
  "kernelspec": {
   "display_name": "Python 3",
   "language": "python",
   "name": "python3"
  },
  "language_info": {
   "codemirror_mode": {
    "name": "ipython",
    "version": 3
   },
   "file_extension": ".py",
   "mimetype": "text/x-python",
   "name": "python",
   "nbconvert_exporter": "python",
   "pygments_lexer": "ipython3",
   "version": "3.7.4"
  }
 },
 "nbformat": 4,
 "nbformat_minor": 2
}
