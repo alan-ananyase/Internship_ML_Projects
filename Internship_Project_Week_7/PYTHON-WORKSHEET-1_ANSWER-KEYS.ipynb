{
 "cells": [
  {
   "cell_type": "markdown",
   "metadata": {},
   "source": [
    "# PYTHON - WORKSHEET 1\n",
    "## ANSWER KEYS\n",
    "\n",
    "1. (C)\n",
    "2. (B)\n",
    "3. (C)\n",
    "4. (A)\n",
    "5. (D)\n",
    "6. (C)\n",
    "7. (A)\n",
    "8. (A)\n",
    "9. (A), (C)\n",
    "10. (A), (B)\n",
    "11. **Answer is as follows :**"
   ]
  },
  {
   "cell_type": "code",
   "execution_count": 16,
   "metadata": {},
   "outputs": [
    {
     "name": "stdout",
     "output_type": "stream",
     "text": [
      "enter the number to find the factorial35\n",
      "The factorial is  10333147966386144929666651337523200000000\n"
     ]
    }
   ],
   "source": [
    "# Program to find the factorial of a no. entered by user\n",
    "\n",
    "n=int(input(\"enter the number to find the factorial\"))\n",
    "def fact(n):\n",
    "    \n",
    "    if n==1 :\n",
    "        return 1\n",
    "    else :\n",
    "        return n*fact(n-1)\n",
    "    \n",
    "if n<0 :\n",
    "    print(\" number is negative . factorial not possible\")\n",
    "elif n==0:\n",
    "    print(\"The factorial is \",1)\n",
    "else:\n",
    "     print(\"The factorial is \",fact(n))"
   ]
  },
  {
   "cell_type": "markdown",
   "metadata": {},
   "source": [
    "12. **Answer is as follows :**"
   ]
  },
  {
   "cell_type": "code",
   "execution_count": 22,
   "metadata": {},
   "outputs": [
    {
     "name": "stdout",
     "output_type": "stream",
     "text": [
      "enter the number1\n",
      "neither prime nor composite\n"
     ]
    }
   ],
   "source": [
    "# Program to check whether entered number is a prime number or a composite number\n",
    "\n",
    "n=int(input('enter the number'))\n",
    "if n==0 or n==1:\n",
    "    print(\"neither prime nor composite\")\n",
    "else:\n",
    "    k=[]\n",
    "    for i in range(1,n):\n",
    "        if n%i==0:\n",
    "            k.append(i)\n",
    "    if len(k)<=2:\n",
    "        print(\"Number is prime\")\n",
    "        \n",
    "    else :\n",
    "        print(\"Number is composite\")  "
   ]
  },
  {
   "cell_type": "markdown",
   "metadata": {},
   "source": [
    "13. **Answer is as follows :**"
   ]
  },
  {
   "cell_type": "code",
   "execution_count": 31,
   "metadata": {},
   "outputs": [
    {
     "name": "stdout",
     "output_type": "stream",
     "text": [
      "Enter the stringnitin\n",
      "the string is palindrome\n"
     ]
    }
   ],
   "source": [
    "# Program to check if the entered string is palindrome or not\n",
    "\n",
    "string=input(\"Enter the string\")\n",
    "rev_string=\"\"\n",
    "for i in range(1,len(string)+1):\n",
    "    rev_string=rev_string+string.lower()[-i]\n",
    "if rev_string==string:\n",
    "    print(\"the string is palindrome\")\n",
    "else :\n",
    "    print(\"the string is not palindrome\")"
   ]
  },
  {
   "cell_type": "markdown",
   "metadata": {},
   "source": [
    "14. **Answer is as follows :**"
   ]
  },
  {
   "cell_type": "code",
   "execution_count": 32,
   "metadata": {},
   "outputs": [
    {
     "name": "stdout",
     "output_type": "stream",
     "text": [
      "enter the base of the right angled triangle3\n",
      "enter the perpendicular of the right angled triangle4\n",
      "the length of hypotenuse is  5.0\n"
     ]
    }
   ],
   "source": [
    "# Program to find the length of hypotenuse of a right angled triangle\n",
    "\n",
    "import math\n",
    "a=int(input(\"enter the base of the right angled triangle\"))\n",
    "b=int(input(\"enter the perpendicular of the right angled triangle\"))\n",
    "print(\"the length of hypotenuse is \",math.sqrt(a**2+b**2))"
   ]
  },
  {
   "cell_type": "markdown",
   "metadata": {},
   "source": [
    "15. **Answer is as follows :**"
   ]
  },
  {
   "cell_type": "code",
   "execution_count": null,
   "metadata": {},
   "outputs": [],
   "source": [
    "# Program to find the frequency of each character present in the entered string\n",
    "\n",
    "string=input(\"Enter the string\")\n",
    "freq=dict()\n",
    "for i in string :\n",
    "    if i in freq.keys():\n",
    "        freq[i]=freq[i]+1\n",
    "    else :\n",
    "        freq[i]=1\n",
    "print(\" The frequencies of characters in the string are\",)"
   ]
  }
 ],
 "metadata": {
  "kernelspec": {
   "display_name": "Python 3",
   "language": "python",
   "name": "python3"
  },
  "language_info": {
   "codemirror_mode": {
    "name": "ipython",
    "version": 3
   },
   "file_extension": ".py",
   "mimetype": "text/x-python",
   "name": "python",
   "nbconvert_exporter": "python",
   "pygments_lexer": "ipython3",
   "version": "3.7.7"
  }
 },
 "nbformat": 4,
 "nbformat_minor": 4
}
