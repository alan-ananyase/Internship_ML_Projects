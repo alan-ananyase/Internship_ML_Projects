{
 "cells": [
  {
   "cell_type": "markdown",
   "metadata": {},
   "source": [
    "1. Which of the following operators is used to calculate remainder in a division?\n",
    "    * %"
   ]
  },
  {
   "cell_type": "code",
   "execution_count": 1,
   "metadata": {},
   "outputs": [
    {
     "data": {
      "text/plain": [
       "1"
      ]
     },
     "execution_count": 1,
     "metadata": {},
     "output_type": "execute_result"
    }
   ],
   "source": [
    "6%5"
   ]
  },
  {
   "cell_type": "markdown",
   "metadata": {},
   "source": [
    "2. In python 2//3 is equal to?\n",
    "    * 0"
   ]
  },
  {
   "cell_type": "code",
   "execution_count": 2,
   "metadata": {},
   "outputs": [
    {
     "data": {
      "text/plain": [
       "0"
      ]
     },
     "execution_count": 2,
     "metadata": {},
     "output_type": "execute_result"
    }
   ],
   "source": [
    "2//3"
   ]
  },
  {
   "cell_type": "markdown",
   "metadata": {},
   "source": [
    "3. In python, 6<<2 is equal to?\n",
    "    * 24"
   ]
  },
  {
   "cell_type": "code",
   "execution_count": 3,
   "metadata": {},
   "outputs": [
    {
     "data": {
      "text/plain": [
       "24"
      ]
     },
     "execution_count": 3,
     "metadata": {},
     "output_type": "execute_result"
    }
   ],
   "source": [
    "6<<2"
   ]
  },
  {
   "cell_type": "markdown",
   "metadata": {},
   "source": [
    "4. In python, 6&2 will give which of the following as output?\n",
    "    * 2"
   ]
  },
  {
   "cell_type": "code",
   "execution_count": 4,
   "metadata": {},
   "outputs": [
    {
     "data": {
      "text/plain": [
       "2"
      ]
     },
     "execution_count": 4,
     "metadata": {},
     "output_type": "execute_result"
    }
   ],
   "source": [
    "6&2"
   ]
  },
  {
   "cell_type": "markdown",
   "metadata": {},
   "source": [
    "5. In python, 6|2 will give which of the following as output?\n",
    "    * 6"
   ]
  },
  {
   "cell_type": "code",
   "execution_count": 5,
   "metadata": {},
   "outputs": [
    {
     "data": {
      "text/plain": [
       "6"
      ]
     },
     "execution_count": 5,
     "metadata": {},
     "output_type": "execute_result"
    }
   ],
   "source": [
    "6|2"
   ]
  },
  {
   "cell_type": "markdown",
   "metadata": {},
   "source": [
    "6. What does the finally keyword denotes in python?\n",
    "    * the finally block will be executed no matter if the try block raises an error or not.\n",
    "7. What does raise keyword is used for in python?\n",
    "    * It is used to raise an exception.\n",
    "8. Which of the following is a common use case of yield keyword in python?\n",
    "    * in defining a generator\n",
    "9. Which of the following are the valid variable names?\n",
    "    * _abc\n",
    "    * abc2\n",
    "10. Which of the following are the keywords in python?\n",
    "    * yield\n",
    "    * raise"
   ]
  },
  {
   "cell_type": "markdown",
   "metadata": {},
   "source": [
    "11. Write a python program to find the factorial of a number."
   ]
  },
  {
   "cell_type": "code",
   "execution_count": 6,
   "metadata": {},
   "outputs": [
    {
     "name": "stdout",
     "output_type": "stream",
     "text": [
      "Enter a number :: 9\n",
      "The factorial of 9 is 362880\n"
     ]
    }
   ],
   "source": [
    "num = int(input(\"Enter a number :: \"))\n",
    "a = 1\n",
    "\n",
    "if num < 0:\n",
    "    print(\"Sorry, factorial does not exist for negative numbers\")\n",
    "elif num == 0:\n",
    "    print(\"The factorial of 0 is 1\")\n",
    "else:\n",
    "    for i in range(1, num+1):\n",
    "        a = a*i\n",
    "    print(\"The factorial of\", num, \"is\", a)"
   ]
  },
  {
   "cell_type": "markdown",
   "metadata": {},
   "source": [
    "12. Write a python program to find whether a number is prime or composite."
   ]
  },
  {
   "cell_type": "code",
   "execution_count": 7,
   "metadata": {},
   "outputs": [
    {
     "name": "stdout",
     "output_type": "stream",
     "text": [
      "Enter a number :: 235\n",
      "235 is a composite number\n"
     ]
    }
   ],
   "source": [
    "n = int(input(\"Enter a number :: \"))\n",
    "\n",
    "if n < 2:\n",
    "    print(\"A number must be 2 and more\")\n",
    "else:\n",
    "    for i in range(2, n):\n",
    "        if (n % i) == 0:\n",
    "            print(n, \"is a composite number\")\n",
    "            break\n",
    "    else:\n",
    "        print(n, \"is a prime number\")"
   ]
  },
  {
   "cell_type": "markdown",
   "metadata": {},
   "source": [
    "13. Write a python program to check whether a given string is palindrome or not."
   ]
  },
  {
   "cell_type": "code",
   "execution_count": 8,
   "metadata": {},
   "outputs": [
    {
     "name": "stdout",
     "output_type": "stream",
     "text": [
      "Enter string :: Malayalam\n",
      "The string is a palindrome.\n"
     ]
    }
   ],
   "source": [
    "string = input(\"Enter string :: \")\n",
    "\n",
    "string = string.lower()\n",
    "rev_str = reversed(string)\n",
    "if list(string) == list(rev_str):\n",
    "       print(\"The string is a palindrome.\")\n",
    "else:\n",
    "       print(\"The string is not a palindrome.\")"
   ]
  },
  {
   "cell_type": "markdown",
   "metadata": {},
   "source": [
    "14. Write a Python program to get the third side of right-angled triangle from two given sides."
   ]
  },
  {
   "cell_type": "code",
   "execution_count": 9,
   "metadata": {},
   "outputs": [
    {
     "name": "stdout",
     "output_type": "stream",
     "text": [
      "Enter the opposite side value (X if unknown) :: 98\n",
      "Enter the adjecent side value (X if unknown) :: X\n",
      "Enter the hypotenuse value (X if unknown) :: 67\n",
      "Adjacent = (4.37928969363623e-15+71.51922818375489j)\n"
     ]
    }
   ],
   "source": [
    "def pythagoras(opp_side, adj_side, hyp_side):\n",
    "    if opp_side == 'x' or opp_side == 'X':\n",
    "        print(\"Opposite = \" + str(((int(hyp_side)**2) - (int(adj_side)**2))**0.5))\n",
    "    elif adj_side == 'x' or adj_side == 'X':\n",
    "        print(\"Adjacent = \" + str(((int(hyp_side)**2) - (int(opp_side)**2))**0.5))\n",
    "    elif hyp_side == 'x' or hyp_side == 'X':\n",
    "        print(\"Hypotenuse = \" + str(((int(opp_side)**2) + (int(adj_side)**2))**0.5))\n",
    "    \n",
    "opp_side = input(\"Enter the opposite side value (X if unknown) :: \")\n",
    "adj_side = input(\"Enter the adjecent side value (X if unknown) :: \")\n",
    "hyp_side = input(\"Enter the hypotenuse value (X if unknown) :: \")\n",
    "pythagoras(opp_side, adj_side, hyp_side)"
   ]
  },
  {
   "cell_type": "markdown",
   "metadata": {},
   "source": [
    "15. Write a python program to print the frequency of each of the characters present in a given string."
   ]
  },
  {
   "cell_type": "code",
   "execution_count": 10,
   "metadata": {},
   "outputs": [
    {
     "name": "stdout",
     "output_type": "stream",
     "text": [
      "Enter string :: Rihanna is a nice person\n",
      "R-1\n",
      "i-3\n",
      "h-1\n",
      "a-3\n",
      "n-4\n",
      "s-2\n",
      "c-1\n",
      "e-2\n",
      "p-1\n",
      "r-1\n",
      "o-1\n"
     ]
    }
   ],
   "source": [
    "string = input(\"Enter string :: \")\n",
    "freq = [None] * len(string)\n",
    "\n",
    "for i in range(0, len(string)):\n",
    "    freq[i] = 1\n",
    "    for j in range(i+1, len(string)):\n",
    "        if(string[i] == string[j]):\n",
    "            freq[i] = freq[i] + 1\n",
    "            string = string[:j] + '0' + string[j+1:]\n",
    "\n",
    "for i in range(0, len(freq)):\n",
    "    if(string[i] != ' ' and string[i] != '0'):\n",
    "        print(string[i] + \"-\" + str(freq[i]))"
   ]
  }
 ],
 "metadata": {
  "kernelspec": {
   "display_name": "Python 3",
   "language": "python",
   "name": "python3"
  },
  "language_info": {
   "codemirror_mode": {
    "name": "ipython",
    "version": 3
   },
   "file_extension": ".py",
   "mimetype": "text/x-python",
   "name": "python",
   "nbconvert_exporter": "python",
   "pygments_lexer": "ipython3",
   "version": "3.7.4"
  }
 },
 "nbformat": 4,
 "nbformat_minor": 2
}
