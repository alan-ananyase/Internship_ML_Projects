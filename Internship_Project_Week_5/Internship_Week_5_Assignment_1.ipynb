{
 "cells": [
  {
   "cell_type": "markdown",
   "metadata": {},
   "source": [
    "### Python-Worksheet-2\n",
    "12. Are strings mutable in python? Suppose you have a string “I+Love+Python”, write a small code to replace ‘+’ with space in python.\n",
    "##### No. Although we can access any character using slicing, we cannot change any character."
   ]
  },
  {
   "cell_type": "code",
   "execution_count": 1,
   "metadata": {},
   "outputs": [
    {
     "data": {
      "text/plain": [
       "'I Love Python'"
      ]
     },
     "execution_count": 1,
     "metadata": {},
     "output_type": "execute_result"
    }
   ],
   "source": [
    "# Simple Code\n",
    "\"I+Love+Python\".replace(\"+\", \" \")"
   ]
  },
  {
   "cell_type": "code",
   "execution_count": 2,
   "metadata": {},
   "outputs": [
    {
     "data": {
      "text/plain": [
       "'I Love Python'"
      ]
     },
     "execution_count": 2,
     "metadata": {},
     "output_type": "execute_result"
    }
   ],
   "source": [
    "# Another way to write it\n",
    "a = \"I+Love+Python\"\n",
    "new_a = a.replace(\"+\", \" \")\n",
    "new_a"
   ]
  },
  {
   "cell_type": "markdown",
   "metadata": {},
   "source": [
    "13. What does the function ord() do in python? Explain with example. Also, write down the function for getting the datatype of a variable in python.\n",
    "##### ord() returns the Unicode code point for a one-character string."
   ]
  },
  {
   "cell_type": "code",
   "execution_count": 3,
   "metadata": {},
   "outputs": [
    {
     "name": "stdout",
     "output_type": "stream",
     "text": [
      "Ord('1') >> 49\n",
      "Ord('A') >> 65\n",
      "Ord('#') >> 35\n"
     ]
    }
   ],
   "source": [
    "print(\"Ord('1') >>\", ord(\"1\"))\n",
    "print(\"Ord('A') >>\", ord(\"A\"))\n",
    "print(\"Ord('#') >>\", ord(\"#\"))"
   ]
  },
  {
   "cell_type": "code",
   "execution_count": 4,
   "metadata": {},
   "outputs": [],
   "source": [
    "# Function to obtain the datatype of a variable\n",
    "def data_type(variable):\n",
    "    return type(variable)"
   ]
  },
  {
   "cell_type": "code",
   "execution_count": 5,
   "metadata": {},
   "outputs": [
    {
     "data": {
      "text/plain": [
       "dict"
      ]
     },
     "execution_count": 5,
     "metadata": {},
     "output_type": "execute_result"
    }
   ],
   "source": [
    "data_type({1:2})"
   ]
  },
  {
   "cell_type": "markdown",
   "metadata": {},
   "source": [
    "14. Write a python program to solve a quadratic equation of the form 𝑎𝑥2+𝑏𝑥+𝑐=0. Where a, b and c are to be taken by user input. Handle the erroneous input, such as ‘a’ should not be equal to 0."
   ]
  },
  {
   "cell_type": "code",
   "execution_count": 6,
   "metadata": {},
   "outputs": [],
   "source": [
    "import cmath\n",
    "\n",
    "def quad_func(a, b, c):\n",
    "    # Calculate the discriminant\n",
    "    d = (b**2)-(4*a*c) \n",
    "\n",
    "    # finding solutions >> -b ± sqrt(d) / 2a\n",
    "    ans1 = (-b+cmath.sqrt(d))/(2*a)\n",
    "    ans2 = (-b-cmath.sqrt(d))/(2*a)\n",
    "    print(\"\\nSolution 1 ::\", ans1, \"\\nSolution 2 ::\", ans2)"
   ]
  },
  {
   "cell_type": "code",
   "execution_count": null,
   "metadata": {},
   "outputs": [
    {
     "name": "stdout",
     "output_type": "stream",
     "text": [
      "Enter value for a ::0\n",
      "Please enter a value other than 0\n"
     ]
    }
   ],
   "source": [
    "a=\"0\"\n",
    "while(a==\"0\"):\n",
    "    a = input(\"Enter value for a ::\")\n",
    "    if a==\"0\": print(\"Please enter a value other than 0\")\n",
    "\n",
    "b = input(\"Enter value for b ::\")\n",
    "c = input(\"Enter value for c ::\")\n",
    "a, b, c = int(a), int(b), int(c)\n",
    "\n",
    "quad_func(a, b, c)"
   ]
  },
  {
   "cell_type": "markdown",
   "metadata": {},
   "source": [
    "15. Write a python program to find the sum of first ‘n’ natural numbers without using any loop. Ask user to input the value of ‘n’."
   ]
  },
  {
   "cell_type": "code",
   "execution_count": null,
   "metadata": {},
   "outputs": [],
   "source": [
    "value = int(input(\"Enter Number ::\"))\n",
    "sum = (value*(value+1))/2\n",
    "print(int(sum))"
   ]
  }
 ],
 "metadata": {
  "kernelspec": {
   "display_name": "Python 3",
   "language": "python",
   "name": "python3"
  },
  "language_info": {
   "codemirror_mode": {
    "name": "ipython",
    "version": 3
   },
   "file_extension": ".py",
   "mimetype": "text/x-python",
   "name": "python",
   "nbconvert_exporter": "python",
   "pygments_lexer": "ipython3",
   "version": "3.7.4"
  }
 },
 "nbformat": 4,
 "nbformat_minor": 2
}
